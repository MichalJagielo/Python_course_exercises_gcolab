{
  "nbformat": 4,
  "nbformat_minor": 0,
  "metadata": {
    "colab": {
      "name": "14_cwiczeniaMJ.ipynb",
      "provenance": [],
      "collapsed_sections": [],
      "authorship_tag": "ABX9TyMpRNM4ERyIzBE0zDnLYLxo",
      "include_colab_link": true
    },
    "kernelspec": {
      "name": "python3",
      "display_name": "Python 3"
    },
    "language_info": {
      "name": "python"
    }
  },
  "cells": [
    {
      "cell_type": "markdown",
      "metadata": {
        "id": "view-in-github",
        "colab_type": "text"
      },
      "source": [
        "<a href=\"https://colab.research.google.com/github/MichalJagielo/Exercises-and-Practice-Python-GoogleColab/blob/main/14_cwiczeniaMJ.ipynb\" target=\"_parent\"><img src=\"https://colab.research.google.com/assets/colab-badge.svg\" alt=\"Open In Colab\"/></a>"
      ]
    },
    {
      "cell_type": "code",
      "execution_count": 104,
      "metadata": {
        "colab": {
          "base_uri": "https://localhost:8080/"
        },
        "id": "fYMNborQFMuc",
        "outputId": "f5816ccd-9211-43fa-e936-6d149043b15c"
      },
      "outputs": [
        {
          "output_type": "stream",
          "name": "stdout",
          "text": [
            "[2, 3, 5, 7, 11, 13, 17, 19, 23, 29]\n"
          ]
        }
      ],
      "source": [
        "flaga = 0\n",
        "n = 2\n",
        "l =[]\n",
        "while flaga < 10:\n",
        "  for i in range(2, n):\n",
        "    if n % i == 0:\n",
        "      break \n",
        "  else:\n",
        "    l.append(n)\n",
        "    flaga += 1\n",
        "  n += 1\n",
        "print(l)"
      ]
    },
    {
      "cell_type": "code",
      "source": [
        "# n - liczba okresów (w latach)\n",
        "# pv - present value - wartość obecna\n",
        "# r - stopa procentowa (roczna)\n",
        "# fv - future value - wartość przyszła Wynik = 2021,82PLN, 18lat\n",
        "\n",
        "n = 1\n",
        "pv = 1000\n",
        "r = 0.04\n",
        "lpv = []\n",
        "cel = pv * 2\n",
        "while pv <= cel:\n",
        "  for i in range(0, n):\n",
        "    pv = pv + pv*r\n",
        "    lpv.append(float(pv))\n",
        "    n=n+1\n",
        "    break \n",
        "print(n)\n",
        "print(round(max(lpv),2))\n",
        "# n = 1\n",
        "# pv = 1000\n",
        "# r = 0.04\n",
        "# lpv = []\n",
        "# cel = pv * (1 + r)\n",
        "# while cel <= 2000:\n",
        "#   cel = cel * (1 + r)\n",
        "#   n = n + 1\n",
        "# print(f'{cel:.2f} i {n}')\n",
        "\n",
        "\n"
      ],
      "metadata": {
        "colab": {
          "base_uri": "https://localhost:8080/"
        },
        "id": "R-wCkrHPzOnw",
        "outputId": "01e564cd-2912-40ff-9680-91e7205afa77"
      },
      "execution_count": 180,
      "outputs": [
        {
          "output_type": "stream",
          "name": "stdout",
          "text": [
            "19\n",
            "2025.82\n"
          ]
        }
      ]
    },
    {
      "cell_type": "code",
      "source": [
        "#L(w) = w^2 - 4*w\n",
        "#L'(w) = 2*w - 4\n",
        "max_iters = 10000 \n",
        "iters = 0\n",
        "w_0 = -1\n",
        "#w_prev = w_0\n",
        "previous_step_size = 1\n",
        "learning_rate = 0.01\n",
        "precision = 0.000001\n",
        "derivative = lambda w: 2 * w - 4\n",
        "\n",
        "while previous_step_size > precision and iters < max_iters:\n",
        "  w_prev = w_0\n",
        "  w_0 = w_0 - learning_rate * derivative(w_prev)\n",
        "  #print(w_0)\n",
        "  previous_step_size = abs(w_0 - w_prev)\n",
        "  #print((previous_step_size))\n",
        "  iters += 1\n",
        "print(w_0)\n"
      ],
      "metadata": {
        "colab": {
          "base_uri": "https://localhost:8080/"
        },
        "id": "8yzZ12oZAVpH",
        "outputId": "b5e15833-b4a4-4cc3-b0d2-15b61af7a62e"
      },
      "execution_count": 19,
      "outputs": [
        {
          "output_type": "stream",
          "name": "stdout",
          "text": [
            "1.9999514086927728\n"
          ]
        }
      ]
    },
    {
      "cell_type": "code",
      "source": [
        "numbers = [1, 2, 3, 4, 5, 6, 7, 8, 9]\n",
        "target = 7\n",
        "start = 0\n",
        "end = len(numbers) - 1\n",
        "flag = None\n",
        "# while start <= end:\n",
        "#   mid = int((start+end)/2)\n",
        "#   if mid == target:\n",
        "#     flag=True\n",
        "#     break\n",
        "#   else:\n",
        "#     if mid < target:\n",
        "#       start += 1  \n",
        "#     else: \n",
        "#       mid > target\n",
        "#       end -= 1\n",
        "# if flag:\n",
        "#   print(mid, target, flag)\n",
        "# else:\n",
        "#   flag = False\n",
        "#   print(mid, target, flag)\n",
        "while start <= end:\n",
        "  mid = int((start+end)/2)\n",
        "  if numbers[mid] == target:\n",
        "    flag=True\n",
        "    break\n",
        "  else:\n",
        "    if numbers[mid] < target:\n",
        "      start = mid + 1  \n",
        "    else: \n",
        "      end =mid - 1\n",
        "if flag:\n",
        "  print(mid, target, flag)\n",
        "else:\n",
        "  flag = False\n",
        "  print(mid, target, flag)"
      ],
      "metadata": {
        "colab": {
          "base_uri": "https://localhost:8080/"
        },
        "id": "_P6Kx0FOVWNS",
        "outputId": "604968e4-beff-46d4-83c7-4d7654715ee6"
      },
      "execution_count": 66,
      "outputs": [
        {
          "output_type": "stream",
          "name": "stdout",
          "text": [
            "6 7 True\n"
          ]
        }
      ]
    }
  ]
}
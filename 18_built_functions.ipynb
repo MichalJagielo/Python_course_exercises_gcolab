{
  "nbformat": 4,
  "nbformat_minor": 0,
  "metadata": {
    "colab": {
      "name": "18_cwiczeniaMJ.ipynb",
      "provenance": [],
      "collapsed_sections": [],
      "authorship_tag": "ABX9TyOnKSPQ4tvRcdMWoUWnT73n",
      "include_colab_link": true
    },
    "kernelspec": {
      "name": "python3",
      "display_name": "Python 3"
    },
    "language_info": {
      "name": "python"
    }
  },
  "cells": [
    {
      "cell_type": "markdown",
      "metadata": {
        "id": "view-in-github",
        "colab_type": "text"
      },
      "source": [
        "<a href=\"https://colab.research.google.com/github/MichalJagielo/Exercises-and-Practice-Python-GoogleColab/blob/main/18_cwiczeniaMJ.ipynb\" target=\"_parent\"><img src=\"https://colab.research.google.com/assets/colab-badge.svg\" alt=\"Open In Colab\"/></a>"
      ]
    },
    {
      "cell_type": "code",
      "execution_count": 1,
      "metadata": {
        "colab": {
          "base_uri": "https://localhost:8080/"
        },
        "id": "TtMlTDo5NRSQ",
        "outputId": "57dac846-a0fc-41fa-ffaf-e1548a2e28b6"
      },
      "outputs": [
        {
          "output_type": "stream",
          "name": "stdout",
          "text": [
            "0.75\n"
          ]
        }
      ],
      "source": [
        "x = -1.5\n",
        "expression = 'x**2 + x'\n",
        "print(eval(expression))"
      ]
    },
    {
      "cell_type": "code",
      "source": [
        "var1 = 'Python'\n",
        "var2 = ('Python')\n",
        "var3 = ('Python',)\n",
        "var4 = ['Python']\n",
        "var5 = {'Python'}\n",
        "l=[var1,var2,var3,var4,var5]\n",
        "for i in l:\n",
        "  if isinstance(i, tuple):\n",
        "    print(True)\n",
        "  else:\n",
        "    print(False)\n"
      ],
      "metadata": {
        "colab": {
          "base_uri": "https://localhost:8080/"
        },
        "id": "pHDVF0k3Ngt9",
        "outputId": "3995fdd6-2035-459e-b14f-2d3c932aba75"
      },
      "execution_count": 24,
      "outputs": [
        {
          "output_type": "stream",
          "name": "stdout",
          "text": [
            "False\n",
            "False\n",
            "True\n",
            "False\n",
            "False\n"
          ]
        }
      ]
    },
    {
      "cell_type": "code",
      "source": [
        "characters = ['k', 'b', 'c', 'j', 'z', 'w']\n",
        "characters.sort()\n",
        "max(characters), min(characters)"
      ],
      "metadata": {
        "colab": {
          "base_uri": "https://localhost:8080/"
        },
        "id": "M012MOxZQIAe",
        "outputId": "ab2af6dc-5e34-4beb-fe44-ea66d8da7583"
      },
      "execution_count": 28,
      "outputs": [
        {
          "output_type": "execute_result",
          "data": {
            "text/plain": [
              "('z', 'b')"
            ]
          },
          "metadata": {},
          "execution_count": 28
        }
      ]
    },
    {
      "cell_type": "code",
      "source": [
        "ticker = ('TEN', 'PLW', 'CDR')\n",
        "full_name = ('Ten Square Games', 'Playway', 'CD Projekt')\n",
        "lista = list(zip(ticker, full_name))\n",
        "lista"
      ],
      "metadata": {
        "colab": {
          "base_uri": "https://localhost:8080/"
        },
        "id": "wdKvNxFVQjoy",
        "outputId": "04072a8a-e9bf-4912-c01f-fb4ad077bcdd"
      },
      "execution_count": 30,
      "outputs": [
        {
          "output_type": "execute_result",
          "data": {
            "text/plain": [
              "[('TEN', 'Ten Square Games'), ('PLW', 'Playway'), ('CDR', 'CD Projekt')]"
            ]
          },
          "metadata": {},
          "execution_count": 30
        }
      ]
    },
    {
      "cell_type": "code",
      "source": [
        "items = (' ', '0', 0.1, True)\n",
        "print(all(items))\n",
        "  "
      ],
      "metadata": {
        "colab": {
          "base_uri": "https://localhost:8080/"
        },
        "id": "l9DDNvSfQ4vf",
        "outputId": "e47bdfd4-d468-4b67-d9df-801f72b627f9"
      },
      "execution_count": 32,
      "outputs": [
        {
          "output_type": "stream",
          "name": "stdout",
          "text": [
            "True\n"
          ]
        }
      ]
    },
    {
      "cell_type": "code",
      "source": [
        "items = ('', 0.0, 0, False)\n",
        "print(any(items))"
      ],
      "metadata": {
        "colab": {
          "base_uri": "https://localhost:8080/"
        },
        "id": "0t-RTIvAaYss",
        "outputId": "c23049c9-4074-46fb-9931-98e44505cdbd"
      },
      "execution_count": 33,
      "outputs": [
        {
          "output_type": "stream",
          "name": "stdout",
          "text": [
            "False\n"
          ]
        }
      ]
    },
    {
      "cell_type": "code",
      "source": [
        "number = 234\n",
        "number = bin(number)\n",
        "number\n",
        "print(number.count('1'))"
      ],
      "metadata": {
        "colab": {
          "base_uri": "https://localhost:8080/"
        },
        "id": "QSES7BYeaqcr",
        "outputId": "bc4b1860-50d4-44e1-9f59-50e539bc45e9"
      },
      "execution_count": 39,
      "outputs": [
        {
          "output_type": "stream",
          "name": "stdout",
          "text": [
            "5\n"
          ]
        }
      ]
    }
  ]
}
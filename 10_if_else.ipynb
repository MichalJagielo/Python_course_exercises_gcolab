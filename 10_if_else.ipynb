{
  "nbformat": 4,
  "nbformat_minor": 0,
  "metadata": {
    "colab": {
      "name": "10_cwiczeniaMJ.ipynb",
      "provenance": [],
      "authorship_tag": "ABX9TyN1I7AjQMgdWMauqLUXcWJP",
      "include_colab_link": true
    },
    "kernelspec": {
      "name": "python3",
      "display_name": "Python 3"
    },
    "language_info": {
      "name": "python"
    }
  },
  "cells": [
    {
      "cell_type": "markdown",
      "metadata": {
        "id": "view-in-github",
        "colab_type": "text"
      },
      "source": [
        "<a href=\"https://colab.research.google.com/github/MichalJagielo/Exercises-and-Practice-Python-GoogleColab/blob/main/10_cwiczeniaMJ.ipynb\" target=\"_parent\"><img src=\"https://colab.research.google.com/assets/colab-badge.svg\" alt=\"Open In Colab\"/></a>"
      ]
    },
    {
      "cell_type": "code",
      "execution_count": 3,
      "metadata": {
        "colab": {
          "base_uri": "https://localhost:8080/"
        },
        "id": "BgkybW3FV0O1",
        "outputId": "18e2d556-9397-4d85-e290-732583ec2335"
      },
      "outputs": [
        {
          "output_type": "stream",
          "name": "stdout",
          "text": [
            "TAK\n"
          ]
        }
      ],
      "source": [
        "filename = '01012020_sales.xlsx'\n",
        "if filename.endswith('xlsx'):\n",
        "  print('TAK')\n",
        "else:\n",
        "  print('NIE')"
      ]
    },
    {
      "cell_type": "code",
      "source": [
        "code = 'DSVNDOICSN'\n",
        "if code.isupper():\n",
        "  print(\"TAK\")\n",
        "else:\n",
        "  print(\"NIE\")"
      ],
      "metadata": {
        "colab": {
          "base_uri": "https://localhost:8080/"
        },
        "id": "bUgj7p0EWkjt",
        "outputId": "6f0b2055-73d7-4bf9-b1aa-aacada8b4fe2"
      },
      "execution_count": 5,
      "outputs": [
        {
          "output_type": "stream",
          "name": "stdout",
          "text": [
            "NIE\n"
          ]
        }
      ]
    },
    {
      "cell_type": "code",
      "source": [
        "number = 1.0\n",
        "if isinstance(number, int):\n",
        "  print(\"TAK\")\n",
        "else:\n",
        "  print('NIE')"
      ],
      "metadata": {
        "colab": {
          "base_uri": "https://localhost:8080/"
        },
        "id": "8iHT7vZDXFpl",
        "outputId": "9380daf7-fb2e-4ea1-b11c-3594c20af651"
      },
      "execution_count": 9,
      "outputs": [
        {
          "output_type": "stream",
          "name": "stdout",
          "text": [
            "TAK\n"
          ]
        }
      ]
    },
    {
      "cell_type": "code",
      "source": [
        "password = 'cskdnjcasa!'\n",
        "if len(password) == 11:\n",
        "  print('Access Granted')\n",
        "else:\n",
        "  print('Access Denied')"
      ],
      "metadata": {
        "colab": {
          "base_uri": "https://localhost:8080/"
        },
        "id": "ovzUamdQYB6A",
        "outputId": "0e2a09e5-9e66-4d2c-95b6-8a0f6ca7eb68"
      },
      "execution_count": 13,
      "outputs": [
        {
          "output_type": "stream",
          "name": "stdout",
          "text": [
            "Access\n"
          ]
        }
      ]
    },
    {
      "cell_type": "code",
      "source": [
        "password = 'cskdnjcasa!'\n",
        "if len(password) == 11 and \"!\" in password:\n",
        "  print('Access Granted')\n",
        "else:\n",
        "  print('Access Denied')\n"
      ],
      "metadata": {
        "colab": {
          "base_uri": "https://localhost:8080/"
        },
        "id": "gOXSU831Y0dX",
        "outputId": "e111cf5b-b220-494c-a87a-55863319aeef"
      },
      "execution_count": 18,
      "outputs": [
        {
          "output_type": "stream",
          "name": "stdout",
          "text": [
            "Access Granted\n"
          ]
        }
      ]
    },
    {
      "cell_type": "code",
      "source": [
        "project_ids = ['02134', '24253']\n",
        "char = '02135'\n",
        "if char not in project_ids:\n",
        "  project_ids.append(char)\n",
        "  print(project_ids)\n",
        "else:\n",
        "  pass"
      ],
      "metadata": {
        "colab": {
          "base_uri": "https://localhost:8080/"
        },
        "id": "5urCucw8eLTl",
        "outputId": "c427b7e1-848d-4f50-ea83-1b9a1764f6c0"
      },
      "execution_count": 19,
      "outputs": [
        {
          "output_type": "stream",
          "name": "stdout",
          "text": [
            "['02134', '24253', '02135']\n"
          ]
        }
      ]
    },
    {
      "cell_type": "code",
      "source": [
        "project_ids = {\n",
        "    '01': 'open', \n",
        "    '02': 'new',\n",
        "    '03': 'in progress',\n",
        "    '04': 'completed'\n",
        "}\n",
        "if 'new' in project_ids['02']:\n",
        "  project_ids['02'] = 'open'\n",
        "project_ids\n",
        "# p = {2 : 'kkk'}\n",
        "# if 'kkk' in p[2]:\n",
        "#   p[2] = 'lll'\n",
        "# p"
      ],
      "metadata": {
        "colab": {
          "base_uri": "https://localhost:8080/"
        },
        "id": "c3jtM77Qe-xR",
        "outputId": "7005a18f-a2e0-4271-bd09-e0f2e7141505"
      },
      "execution_count": 55,
      "outputs": [
        {
          "output_type": "execute_result",
          "data": {
            "text/plain": [
              "{'01': 'open', '02': 'open', '03': 'in progress', '04': 'completed'}"
            ]
          },
          "metadata": {},
          "execution_count": 55
        }
      ]
    },
    {
      "cell_type": "code",
      "source": [
        "items = ['001', '000', '003', '005', '006']\n",
        "item = '001'\n",
        "if item in items:\n",
        "  items.remove(item)\n",
        "  print (True)\n",
        "else:\n",
        "  print(False)\n",
        "print(items)"
      ],
      "metadata": {
        "colab": {
          "base_uri": "https://localhost:8080/"
        },
        "id": "mZSWsJeatFXc",
        "outputId": "d8ee34b4-fb7a-4038-adc8-513eb8e17ddd"
      },
      "execution_count": 60,
      "outputs": [
        {
          "output_type": "stream",
          "name": "stdout",
          "text": [
            "True\n",
            "['000', '003', '005', '006']\n"
          ]
        }
      ]
    },
    {
      "cell_type": "code",
      "source": [
        ""
      ],
      "metadata": {
        "id": "JwaylyZ8tqfW"
      },
      "execution_count": null,
      "outputs": []
    }
  ]
}
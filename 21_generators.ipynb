{
  "nbformat": 4,
  "nbformat_minor": 0,
  "metadata": {
    "colab": {
      "name": "21_cwiczeniaMJ.ipynb",
      "provenance": [],
      "collapsed_sections": [],
      "authorship_tag": "ABX9TyPl2gBs0LskqZ4FsVoHkcKp",
      "include_colab_link": true
    },
    "kernelspec": {
      "name": "python3",
      "display_name": "Python 3"
    },
    "language_info": {
      "name": "python"
    }
  },
  "cells": [
    {
      "cell_type": "markdown",
      "metadata": {
        "id": "view-in-github",
        "colab_type": "text"
      },
      "source": [
        "<a href=\"https://colab.research.google.com/github/MichalJagielo/Exercises-and-Practice-Python-GoogleColab/blob/main/21_cwiczeniaMJ.ipynb\" target=\"_parent\"><img src=\"https://colab.research.google.com/assets/colab-badge.svg\" alt=\"Open In Colab\"/></a>"
      ]
    },
    {
      "cell_type": "code",
      "execution_count": 5,
      "metadata": {
        "colab": {
          "base_uri": "https://localhost:8080/"
        },
        "id": "wzMp5M3JCspZ",
        "outputId": "6703982d-1ad7-4271-e399-7eb9c24fdea4"
      },
      "outputs": [
        {
          "output_type": "execute_result",
          "data": {
            "text/plain": [
              "['data1.txt', 'data2.txt', 'data3.txt']"
            ]
          },
          "metadata": {},
          "execution_count": 5
        }
      ],
      "source": [
        "fnames = ['data1.txt', 'data2.txt', 'data3.txt', 'view.jpg']\n",
        "def file_gen(fnames):\n",
        "  for item in fnames:\n",
        "    if item.endswith('.txt'):\n",
        "      yield item\n",
        "\n",
        "list(file_gen(fnames))\n"
      ]
    },
    {
      "cell_type": "code",
      "source": [
        "#list(enum(['TEN', 'CDR', 'BBT']))\n",
        "\n",
        "def enum(lista):\n",
        "  i = 0\n",
        "  for el in lista:\n",
        "    yield (i, el)\n",
        "    i = i+1\n",
        "list(enum(['TEN', 'CDR', 'BBT']))\n"
      ],
      "metadata": {
        "colab": {
          "base_uri": "https://localhost:8080/"
        },
        "id": "5Nthid1NMKAR",
        "outputId": "820f06cf-b0fd-45ac-f232-a8fae1d5301a"
      },
      "execution_count": 8,
      "outputs": [
        {
          "output_type": "execute_result",
          "data": {
            "text/plain": [
              "[(0, 'TEN'), (1, 'CDR'), (2, 'BBT')]"
            ]
          },
          "metadata": {},
          "execution_count": 8
        }
      ]
    },
    {
      "cell_type": "code",
      "source": [
        "def dayname(index):\n",
        "  days = ['pon', 'wt', 'śr', 'czw', 'pt', 'sb', 'nd']\n",
        "  yield days[index -1]\n",
        "  yield days[index]\n",
        "  yield days[(index +1)%7]\n",
        "list(dayname(2))\n"
      ],
      "metadata": {
        "colab": {
          "base_uri": "https://localhost:8080/"
        },
        "id": "eVltoVrZNVVZ",
        "outputId": "9e584a56-cb9a-433f-d789-c102fd7111fb"
      },
      "execution_count": 69,
      "outputs": [
        {
          "output_type": "execute_result",
          "data": {
            "text/plain": [
              "['wt', 'śr', 'czw']"
            ]
          },
          "metadata": {},
          "execution_count": 69
        }
      ]
    }
  ]
}
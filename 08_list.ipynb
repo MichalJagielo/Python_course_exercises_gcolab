{
  "nbformat": 4,
  "nbformat_minor": 0,
  "metadata": {
    "colab": {
      "name": "08_cwiczeniaMJ.ipynb",
      "provenance": [],
      "collapsed_sections": [],
      "authorship_tag": "ABX9TyP7uweMgyFiqhJqumrbfpPh",
      "include_colab_link": true
    },
    "kernelspec": {
      "name": "python3",
      "display_name": "Python 3"
    },
    "language_info": {
      "name": "python"
    }
  },
  "cells": [
    {
      "cell_type": "markdown",
      "metadata": {
        "id": "view-in-github",
        "colab_type": "text"
      },
      "source": [
        "<a href=\"https://colab.research.google.com/github/MichalJagielo/Exercises-and-Practice-Python-GoogleColab/blob/main/08_cwiczeniaMJ.ipynb\" target=\"_parent\"><img src=\"https://colab.research.google.com/assets/colab-badge.svg\" alt=\"Open In Colab\"/></a>"
      ]
    },
    {
      "cell_type": "code",
      "execution_count": 2,
      "metadata": {
        "colab": {
          "base_uri": "https://localhost:8080/"
        },
        "id": "5xaK2E9rDLSl",
        "outputId": "0fa8d09b-c1b5-4272-c2b2-94c6663fb8ab"
      },
      "outputs": [
        {
          "output_type": "execute_result",
          "data": {
            "text/plain": [
              "['Warszawa', 'Łódź', 'Kraków', 'Gdańsk']"
            ]
          },
          "metadata": {},
          "execution_count": 2
        }
      ],
      "source": [
        "cities = ['Warszawa', 'Łódź', 'Kraków']\n",
        "cities.append('Gdańsk')\n",
        "cities"
      ]
    },
    {
      "cell_type": "code",
      "source": [
        "idx = ['001', '002', '001', '003', '001']\n",
        "print('Liczba wystapien: ', idx.count('001'))\n"
      ],
      "metadata": {
        "colab": {
          "base_uri": "https://localhost:8080/"
        },
        "id": "AoYl1YA-DZhO",
        "outputId": "d6aca4dc-28b6-4344-b3d1-71786fab8f75"
      },
      "execution_count": 4,
      "outputs": [
        {
          "output_type": "stream",
          "name": "stdout",
          "text": [
            "Liczba wystapien:  3\n"
          ]
        }
      ]
    },
    {
      "cell_type": "code",
      "source": [
        "text = 'Programowanie w języku Python'\n",
        "text = text.lower()\n",
        "text = text.replace('ę', 'e')\n",
        "text = text.replace(' ','')\n",
        "text1 = sorted(list(set(text)))\n",
        "print(text1[:10])"
      ],
      "metadata": {
        "colab": {
          "base_uri": "https://localhost:8080/"
        },
        "id": "fYJTUYU9Du9F",
        "outputId": "a75c05cd-c5d1-47c8-d868-fbd57f022fb9"
      },
      "execution_count": 48,
      "outputs": [
        {
          "output_type": "stream",
          "name": "stdout",
          "text": [
            "['a', 'e', 'g', 'h', 'i', 'j', 'k', 'm', 'n', 'o']\n"
          ]
        }
      ]
    },
    {
      "cell_type": "code",
      "source": [
        "filenames = ['view.jpg', 'bear.jpg', 'ball.png']\n",
        "filenames.insert(0, 'phone.jpg')\n",
        "filenames.remove('ball.png')\n",
        "filenames\n"
      ],
      "metadata": {
        "colab": {
          "base_uri": "https://localhost:8080/"
        },
        "id": "EiwZaQQoFUs2",
        "outputId": "2c1c5fab-484c-46a2-b4f0-78f418ca3090"
      },
      "execution_count": 35,
      "outputs": [
        {
          "output_type": "execute_result",
          "data": {
            "text/plain": [
              "['phone.jpg', 'view.jpg', 'bear.jpg']"
            ]
          },
          "metadata": {},
          "execution_count": 35
        }
      ]
    },
    {
      "cell_type": "code",
      "source": [
        "day1 = ['3984', '9042', '4829', '2380']\n",
        "day2 = ['4231', '5234', '1345', '2455']\n",
        "day1.extend(day2)\n",
        "print(day1)"
      ],
      "metadata": {
        "colab": {
          "base_uri": "https://localhost:8080/"
        },
        "id": "ZgR7Bb7AH_Qy",
        "outputId": "8fff1c9e-f560-4532-8014-7e6e77152d7e"
      },
      "execution_count": 51,
      "outputs": [
        {
          "output_type": "stream",
          "name": "stdout",
          "text": [
            "['3984', '9042', '4829', '2380', '4231', '5234', '1345', '2455']\n"
          ]
        }
      ]
    },
    {
      "cell_type": "code",
      "source": [
        "techs = ('python', 'java', 'sql', 'aws')\n",
        "x = sorted(techs)\n",
        "x"
      ],
      "metadata": {
        "colab": {
          "base_uri": "https://localhost:8080/"
        },
        "id": "FTagp5AYIZ7a",
        "outputId": "de5de69c-22eb-45ee-bbea-df5295ea54d8"
      },
      "execution_count": 37,
      "outputs": [
        {
          "output_type": "execute_result",
          "data": {
            "text/plain": [
              "['aws', 'java', 'python', 'sql']"
            ]
          },
          "metadata": {},
          "execution_count": 37
        }
      ]
    },
    {
      "cell_type": "code",
      "source": [
        "hashtags = ['summer', 'time', 'vibes']\n",
        "x = '#'.join(hashtags)\n",
        "print('# '+ x)\n"
      ],
      "metadata": {
        "colab": {
          "base_uri": "https://localhost:8080/"
        },
        "id": "etHzHegnIit-",
        "outputId": "ddc0e9c6-a561-46c2-b1f2-8c1d4ad9090d"
      },
      "execution_count": 52,
      "outputs": [
        {
          "output_type": "stream",
          "name": "stdout",
          "text": [
            "# summer#time#vibes\n"
          ]
        }
      ]
    }
  ]
}
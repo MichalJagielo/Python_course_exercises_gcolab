{
  "nbformat": 4,
  "nbformat_minor": 0,
  "metadata": {
    "colab": {
      "name": "01_cwiczeniaMJ.ipynb",
      "provenance": [],
      "collapsed_sections": [],
      "authorship_tag": "ABX9TyNY78fxqPKaOVxQHiXm1lhY",
      "include_colab_link": true
    },
    "kernelspec": {
      "name": "python3",
      "display_name": "Python 3"
    },
    "language_info": {
      "name": "python"
    }
  },
  "cells": [
    {
      "cell_type": "markdown",
      "metadata": {
        "id": "view-in-github",
        "colab_type": "text"
      },
      "source": [
        "<a href=\"https://colab.research.google.com/github/MichalJagielo/PythonExercisesGoogleColab/blob/main/01_cwiczeniaMJ.ipynb\" target=\"_parent\"><img src=\"https://colab.research.google.com/assets/colab-badge.svg\" alt=\"Open In Colab\"/></a>"
      ]
    },
    {
      "cell_type": "code",
      "source": [
        "print('Ucz sie Pythona!')"
      ],
      "metadata": {
        "colab": {
          "base_uri": "https://localhost:8080/"
        },
        "id": "n0Vo4pa_8c82",
        "outputId": "bd5c2b50-5c09-49a4-d87f-741489d31064"
      },
      "execution_count": null,
      "outputs": [
        {
          "output_type": "stream",
          "name": "stdout",
          "text": [
            "Ucz sie Pythona!\n"
          ]
        }
      ]
    },
    {
      "cell_type": "code",
      "source": [
        "age = 20\n",
        "print(f'Mam {age} lat.')"
      ],
      "metadata": {
        "colab": {
          "base_uri": "https://localhost:8080/"
        },
        "id": "Oc3VsT9Q9Z7A",
        "outputId": "163df8a8-c9ca-4462-b554-86ee52a4b6fd"
      },
      "execution_count": null,
      "outputs": [
        {
          "output_type": "stream",
          "name": "stdout",
          "text": [
            "Mam 20 lat.\n"
          ]
        }
      ]
    },
    {
      "cell_type": "code",
      "source": [
        "name = 'Python'\n",
        "version = '3.8'\n",
        "print(f'Ucz sie jezyka {name} w wersji {version}')"
      ],
      "metadata": {
        "colab": {
          "base_uri": "https://localhost:8080/"
        },
        "id": "eYkmUJ7r9h-u",
        "outputId": "918ee8d6-03f4-4846-eae3-1bdfa678ec0a"
      },
      "execution_count": null,
      "outputs": [
        {
          "output_type": "stream",
          "name": "stdout",
          "text": [
            "Ucz sie jezyka Python w wersji 3.8\n"
          ]
        }
      ]
    },
    {
      "cell_type": "code",
      "source": [
        "price = 199.99\n",
        "price1 = 69.99\n",
        "print(f'Towar kosztuje {price}.')\n",
        "print('Towar kosztuje', price1)"
      ],
      "metadata": {
        "colab": {
          "base_uri": "https://localhost:8080/"
        },
        "id": "dG1aVNqRBHgK",
        "outputId": "a4d9b982-01e5-446e-a4b1-83e69938dbd1"
      },
      "execution_count": null,
      "outputs": [
        {
          "output_type": "stream",
          "name": "stdout",
          "text": [
            "Towar kosztuje 199.99.\n",
            "Towar kosztuje 69.99\n"
          ]
        }
      ]
    },
    {
      "cell_type": "code",
      "source": [
        "price = 34.99\n",
        "weight = 10\n",
        "print(f'Cena: {price} PLN. Waga: {weight} kg')"
      ],
      "metadata": {
        "colab": {
          "base_uri": "https://localhost:8080/"
        },
        "id": "ic-dYqeABoGv",
        "outputId": "de68ca09-c567-44de-b435-d450ef7c2ac8"
      },
      "execution_count": null,
      "outputs": [
        {
          "output_type": "stream",
          "name": "stdout",
          "text": [
            "Cena: 34.99 PLN. Waga: 10 kg\n"
          ]
        }
      ]
    },
    {
      "cell_type": "code",
      "source": [
        "pi = 3.1415926535\n",
        "print(f'Przyblizenie liczby pi: {pi:.2f}')"
      ],
      "metadata": {
        "colab": {
          "base_uri": "https://localhost:8080/"
        },
        "id": "rovYxNjqB5Th",
        "outputId": "3def9d35-d2ed-456f-b008-5b20e79377da"
      },
      "execution_count": null,
      "outputs": [
        {
          "output_type": "stream",
          "name": "stdout",
          "text": [
            "Przyblizenie liczby pi: 3.14\n"
          ]
        }
      ]
    },
    {
      "cell_type": "code",
      "source": [
        "print('-' * 40)\n",
        "print('WERSJA: 1.0.1')\n",
        "print('-' * 40)"
      ],
      "metadata": {
        "colab": {
          "base_uri": "https://localhost:8080/"
        },
        "id": "lZ7KJ1GHCL94",
        "outputId": "4e3354bb-8a97-46db-9b5c-b0d9fa287ad7"
      },
      "execution_count": null,
      "outputs": [
        {
          "output_type": "stream",
          "name": "stdout",
          "text": [
            "----------------------------------------\n",
            "WERSJA: 1.0.1\n",
            "----------------------------------------\n"
          ]
        }
      ]
    },
    {
      "cell_type": "code",
      "source": [
        "print('=' * 40)\n",
        "print('autor: jannowak@poczta.com')\n",
        "print('data: 01-01-2021')\n",
        "print('=' * 40)"
      ],
      "metadata": {
        "colab": {
          "base_uri": "https://localhost:8080/"
        },
        "id": "6onjtS60CbQw",
        "outputId": "6b281a71-e606-40b6-f843-d4a953e9d259"
      },
      "execution_count": null,
      "outputs": [
        {
          "output_type": "stream",
          "name": "stdout",
          "text": [
            "========================================\n",
            "autor: jannowak@poczta.com\n",
            "data: 01-01-2021\n",
            "========================================\n"
          ]
        }
      ]
    },
    {
      "cell_type": "code",
      "source": [
        "print('summer', 'time', 'holiday', sep='#')"
      ],
      "metadata": {
        "colab": {
          "base_uri": "https://localhost:8080/"
        },
        "id": "r8LJZdNxCxUX",
        "outputId": "c32736cf-16b1-4f3b-86f5-36c7ce7ba1e1"
      },
      "execution_count": null,
      "outputs": [
        {
          "output_type": "stream",
          "name": "stdout",
          "text": [
            "summer#time#holiday\n"
          ]
        }
      ]
    }
  ]
}
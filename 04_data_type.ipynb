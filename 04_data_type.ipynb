{
  "nbformat": 4,
  "nbformat_minor": 0,
  "metadata": {
    "colab": {
      "name": "04_cwiczeniaMJ.ipynb",
      "provenance": [],
      "authorship_tag": "ABX9TyNSgFQgJ9MP5c/Gbqlkp/AX",
      "include_colab_link": true
    },
    "kernelspec": {
      "name": "python3",
      "display_name": "Python 3"
    },
    "language_info": {
      "name": "python"
    }
  },
  "cells": [
    {
      "cell_type": "markdown",
      "metadata": {
        "id": "view-in-github",
        "colab_type": "text"
      },
      "source": [
        "<a href=\"https://colab.research.google.com/github/MichalJagielo/PythonExercisesGoogleColab/blob/main/04_cwiczeniaMJ.ipynb\" target=\"_parent\"><img src=\"https://colab.research.google.com/assets/colab-badge.svg\" alt=\"Open In Colab\"/></a>"
      ]
    },
    {
      "cell_type": "code",
      "source": [
        "var1 = ''\n",
        "var2 = ' '\n",
        "var3 = '\\n'\n",
        "print('\\n',type(var1),'\\n',type(var2),'\\n',type(var3))"
      ],
      "metadata": {
        "colab": {
          "base_uri": "https://localhost:8080/"
        },
        "id": "TO9itNyvsb24",
        "outputId": "2197d2cd-a5c6-42ad-9dba-3960c5682db8"
      },
      "execution_count": 15,
      "outputs": [
        {
          "output_type": "stream",
          "name": "stdout",
          "text": [
            "\n",
            " <class 'str'> \n",
            " <class 'str'> \n",
            " <class 'str'>\n"
          ]
        }
      ]
    },
    {
      "cell_type": "code",
      "source": [
        "var1 = None\n",
        "var2 = False\n",
        "var3 = 'True'\n",
        "print('\\n',type(var1),'\\n',type(var2),'\\n',type(var3))"
      ],
      "metadata": {
        "colab": {
          "base_uri": "https://localhost:8080/"
        },
        "id": "UWB-_g-Uu6mI",
        "outputId": "0ac2ddf0-3208-49c9-d4a0-63ea886ac43e"
      },
      "execution_count": 16,
      "outputs": [
        {
          "output_type": "stream",
          "name": "stdout",
          "text": [
            "\n",
            " <class 'NoneType'> \n",
            " <class 'bool'> \n",
            " <class 'str'>\n"
          ]
        }
      ]
    },
    {
      "cell_type": "code",
      "source": [
        "flag = False\n",
        "isinstance(flag, bool)"
      ],
      "metadata": {
        "colab": {
          "base_uri": "https://localhost:8080/"
        },
        "id": "TppCzDPpvIF5",
        "outputId": "4cd7402c-32a4-4470-f459-e5afcd599704"
      },
      "execution_count": 17,
      "outputs": [
        {
          "output_type": "execute_result",
          "data": {
            "text/plain": [
              "True"
            ]
          },
          "metadata": {},
          "execution_count": 17
        }
      ]
    }
  ]
}
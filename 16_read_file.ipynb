{
  "nbformat": 4,
  "nbformat_minor": 0,
  "metadata": {
    "colab": {
      "name": "16_cwiczeniaMJ.ipynb",
      "provenance": [],
      "collapsed_sections": [],
      "authorship_tag": "ABX9TyPe/YKIovaiD74LazKI+inR",
      "include_colab_link": true
    },
    "kernelspec": {
      "name": "python3",
      "display_name": "Python 3"
    },
    "language_info": {
      "name": "python"
    }
  },
  "cells": [
    {
      "cell_type": "markdown",
      "metadata": {
        "id": "view-in-github",
        "colab_type": "text"
      },
      "source": [
        "<a href=\"https://colab.research.google.com/github/MichalJagielo/Exercises-and-Practice-Python-GoogleColab/blob/main/16_cwiczeniaMJ.ipynb\" target=\"_parent\"><img src=\"https://colab.research.google.com/assets/colab-badge.svg\" alt=\"Open In Colab\"/></a>"
      ]
    },
    {
      "cell_type": "code",
      "execution_count": 1,
      "metadata": {
        "colab": {
          "base_uri": "https://localhost:8080/"
        },
        "id": "3PwRx9Ay6T7z",
        "outputId": "c447a374-8d3b-4a33-dfc5-ead6bfd57c22"
      },
      "outputs": [
        {
          "output_type": "stream",
          "name": "stdout",
          "text": [
            "--2022-01-01 23:13:25--  https://storage.googleapis.com/esmartdata-courses-files/python-200-cwiczenia/playway.txt\n",
            "Resolving storage.googleapis.com (storage.googleapis.com)... 173.194.192.128, 209.85.147.128, 142.250.125.128, ...\n",
            "Connecting to storage.googleapis.com (storage.googleapis.com)|173.194.192.128|:443... connected.\n",
            "HTTP request sent, awaiting response... 200 OK\n",
            "Length: 156 [text/plain]\n",
            "Saving to: ‘playway.txt’\n",
            "\n",
            "playway.txt         100%[===================>]     156  --.-KB/s    in 0s      \n",
            "\n",
            "2022-01-01 23:13:26 (10.5 MB/s) - ‘playway.txt’ saved [156/156]\n",
            "\n"
          ]
        }
      ],
      "source": [
        "!wget https://storage.googleapis.com/esmartdata-courses-files/python-200-cwiczenia/playway.txt"
      ]
    },
    {
      "cell_type": "code",
      "source": [
        "with open('playway.txt') as f:\n",
        "  y = f.read().splitlines()\n",
        "print(y)\n",
        "c = []\n",
        "for i, v in enumerate(y):\n",
        "  if i > 0:\n",
        "   \n",
        "    c.append(int(v.split(',')[-2]))\n",
        "print(c)\n",
        "\n"
      ],
      "metadata": {
        "colab": {
          "base_uri": "https://localhost:8080/"
        },
        "id": "feSm781v7NcX",
        "outputId": "f7f53d97-d3e8-491e-f507-d8ef84e67ea9"
      },
      "execution_count": 44,
      "outputs": [
        {
          "output_type": "stream",
          "name": "stdout",
          "text": [
            "['Data,Otwarcie,Najwyzszy,Najnizszy,Zamkniecie,Wolumen', '2020-04-01,302,314,300,310,12940', '2020-04-02,310,315,305,313,10311', '2020-04-03,313,318.5,312,318,12372']\n",
            "2020-04-01,302,314,300,310,12940\n",
            "2020-04-02,310,315,305,313,10311\n",
            "2020-04-03,313,318.5,312,318,12372\n",
            "[310, 313, 318]\n"
          ]
        }
      ]
    },
    {
      "cell_type": "code",
      "source": [
        "!wget https://storage.googleapis.com/esmartdata-courses-files/python-200-cwiczenia/indeksy.txt"
      ],
      "metadata": {
        "colab": {
          "base_uri": "https://localhost:8080/"
        },
        "id": "nASmRCGUE4Xl",
        "outputId": "a05ee83c-497a-4f6d-e291-43e8290ef204"
      },
      "execution_count": 45,
      "outputs": [
        {
          "output_type": "stream",
          "name": "stdout",
          "text": [
            "--2022-01-01 23:57:24--  https://storage.googleapis.com/esmartdata-courses-files/python-200-cwiczenia/indeksy.txt\n",
            "Resolving storage.googleapis.com (storage.googleapis.com)... 209.85.147.128, 142.250.125.128, 142.250.152.128, ...\n",
            "Connecting to storage.googleapis.com (storage.googleapis.com)|209.85.147.128|:443... connected.\n",
            "HTTP request sent, awaiting response... 200 OK\n",
            "Length: 459 [text/plain]\n",
            "Saving to: ‘indeksy.txt’\n",
            "\n",
            "indeksy.txt         100%[===================>]     459  --.-KB/s    in 0s      \n",
            "\n",
            "2022-01-01 23:57:24 (101 MB/s) - ‘indeksy.txt’ saved [459/459]\n",
            "\n"
          ]
        }
      ]
    },
    {
      "cell_type": "code",
      "source": [
        "with open('indeksy.txt', 'r') as file:\n",
        "  y = file.read().split()\n",
        "c = [el for el in y if el.startswith('WIG')]\n",
        "# for el in y:\n",
        "#   if el.startswith('WIG'):\n",
        "#     c.append(el)\n",
        "print(c)"
      ],
      "metadata": {
        "colab": {
          "base_uri": "https://localhost:8080/"
        },
        "id": "UX4gGn8fE6jt",
        "outputId": "30267a5c-7143-4f7b-cd50-8b4ecef47a6f"
      },
      "execution_count": 50,
      "outputs": [
        {
          "output_type": "stream",
          "name": "stdout",
          "text": [
            "['WIG', 'WIG-banki', 'WIG-budownictwo', 'WIG-CEE', 'WIG-chemia', 'WIG-energia', 'WIG-ESG', 'WIG-górnictwo', 'WIG-informatyka', 'WIG-leki', 'WIG-media', 'WIG-motoryzacja', 'WIG-nieruchomości', 'WIG-odzież', 'WIG-paliwa', 'WIG-Poland', 'WIG-spożywczy', 'WIG-telekomunikacja', 'WIG-Ukraine', 'WIG.GAMES', 'WIG.MS-BAS', 'WIG.MS-FIN', 'WIG.MS-PET', 'WIG20', 'WIG20dvp', 'WIG20lev', 'WIG20short', 'WIG20TR', 'WIG30', 'WIG30TR', 'WIGdiv', 'WIGtech']\n"
          ]
        }
      ]
    },
    {
      "cell_type": "code",
      "source": [
        "with open('plw_d.csv', 'r') as file:\n",
        "    content = file.read().splitlines()!wget https://storage.googleapis.com/esmartdata-courses-files/python-200-cwiczenia/plw_d.csv"
      ],
      "metadata": {
        "colab": {
          "base_uri": "https://localhost:8080/"
        },
        "id": "GPlPptkgHCnA",
        "outputId": "82868ed1-b275-4cef-aed8-01ae6f48af23"
      },
      "execution_count": 80,
      "outputs": [
        {
          "output_type": "stream",
          "name": "stdout",
          "text": [
            "--2022-01-02 12:05:24--  https://storage.googleapis.com/esmartdata-courses-files/python-200-cwiczenia/plw_d.csv\n",
            "Resolving storage.googleapis.com (storage.googleapis.com)... 142.250.141.128, 2607:f8b0:4023:c0b::80\n",
            "Connecting to storage.googleapis.com (storage.googleapis.com)|142.250.141.128|:443... connected.\n",
            "HTTP request sent, awaiting response... 200 OK\n",
            "Length: 843 [application/octet-stream]\n",
            "Saving to: ‘plw_d.csv.1’\n",
            "\n",
            "plw_d.csv.1         100%[===================>]     843  --.-KB/s    in 0s      \n",
            "\n",
            "2022-01-02 12:05:25 (9.10 MB/s) - ‘plw_d.csv.1’ saved [843/843]\n",
            "\n"
          ]
        }
      ]
    },
    {
      "cell_type": "code",
      "source": [
        "with open('plw_d.csv', 'r') as file:\n",
        "  content = file.read().splitlines()\n",
        "l1 = []\n",
        "l2 = []\n",
        "for ind, val in enumerate(content):  \n",
        "  l1.append((val.split(',')[0]))\n",
        "  l2.append(((val.split(',')[-2])))\n",
        "d = {}\n",
        "d1 ={}\n",
        "d[l1[0]] = [l1[i] for i in range(1,len(l1))]\n",
        "d1[l2[0]] = [l2[i] for i in range(1,len(l2))]\n",
        "print(d, d1)"
      ],
      "metadata": {
        "colab": {
          "base_uri": "https://localhost:8080/"
        },
        "id": "WW10Po2yHsFN",
        "outputId": "0ab19bd4-abe7-4485-c448-31be84adf747"
      },
      "execution_count": 79,
      "outputs": [
        {
          "output_type": "stream",
          "name": "stdout",
          "text": [
            "{'Data': ['2020-03-02', '2020-03-03', '2020-03-04', '2020-03-05', '2020-03-06', '2020-03-09', '2020-03-10', '2020-03-11', '2020-03-12', '2020-03-13', '2020-03-16', '2020-03-17', '2020-03-18', '2020-03-19', '2020-03-20', '2020-03-23', '2020-03-24', '2020-03-25', '2020-03-26', '2020-03-27', '2020-03-30', '2020-03-31']} {'Zamkniecie': ['310', '340.5', '330', '315', '305', '258', '264', '245', '197', '211', '240.5', '264', '270', '279.5', '280.5', '285', '309', '304', '300', '296', '300', '306.5']}\n"
          ]
        }
      ]
    },
    {
      "cell_type": "code",
      "source": [
        "with open('plw_d.csv', 'r') as file:\n",
        "    content = file.read().splitlines()\n",
        "l1 = []\n",
        "\n",
        "for ind, val in enumerate(content):  \n",
        "  if ind > 0:\n",
        "    l1.append(int((val.split(',')[-1])))\n",
        "print(max(l1))"
      ],
      "metadata": {
        "colab": {
          "base_uri": "https://localhost:8080/"
        },
        "id": "RsXuZaNcrbOy",
        "outputId": "e72fd602-e997-4353-da3d-fa1b81cef48f"
      },
      "execution_count": 87,
      "outputs": [
        {
          "output_type": "stream",
          "name": "stdout",
          "text": [
            "100412\n"
          ]
        }
      ]
    },
    {
      "cell_type": "code",
      "source": [
        "with open('plw_d.csv', 'r') as file:\n",
        "    content = file.read().splitlines()\n",
        "\n",
        "l = [(line.split(',')[0], line.split(',')[-1]) for line in content][1:]\n",
        "l = [(val[0], int(val[1])) for val in l]\n",
        "max_val = max([val[1] for val in l])\n",
        "max_date = list(filter(lambda val: val[1]==max_val,l))[0][0]\n",
        "max_date"
      ],
      "metadata": {
        "colab": {
          "base_uri": "https://localhost:8080/",
          "height": 36
        },
        "id": "jGVC6dYkrkKA",
        "outputId": "a80669fe-aa3e-447b-efe0-0318ed1b3bc8"
      },
      "execution_count": 196,
      "outputs": [
        {
          "output_type": "execute_result",
          "data": {
            "application/vnd.google.colaboratory.intrinsic+json": {
              "type": "string"
            },
            "text/plain": [
              "'2020-03-13'"
            ]
          },
          "metadata": {},
          "execution_count": 196
        }
      ]
    }
  ]
}
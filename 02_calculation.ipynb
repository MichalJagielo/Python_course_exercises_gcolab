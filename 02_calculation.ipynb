{
  "nbformat": 4,
  "nbformat_minor": 0,
  "metadata": {
    "colab": {
      "name": "02_cwiczeniaMJ.ipynb",
      "provenance": [],
      "collapsed_sections": [],
      "authorship_tag": "ABX9TyMPUWGDALtRQ2xLL6aewWDe",
      "include_colab_link": true
    },
    "kernelspec": {
      "name": "python3",
      "display_name": "Python 3"
    },
    "language_info": {
      "name": "python"
    }
  },
  "cells": [
    {
      "cell_type": "markdown",
      "metadata": {
        "id": "view-in-github",
        "colab_type": "text"
      },
      "source": [
        "<a href=\"https://colab.research.google.com/github/MichalJagielo/PythonExercisesGoogleColab/blob/main/02_cwiczeniaMJ.ipynb\" target=\"_parent\"><img src=\"https://colab.research.google.com/assets/colab-badge.svg\" alt=\"Open In Colab\"/></a>"
      ]
    },
    {
      "cell_type": "code",
      "execution_count": 97,
      "metadata": {
        "colab": {
          "base_uri": "https://localhost:8080/"
        },
        "id": "IcMyD3NDEkri",
        "outputId": "9a28e0a4-9c03-4857-88a4-6900b74b05a8"
      },
      "outputs": [
        {
          "output_type": "stream",
          "name": "stdout",
          "text": [
            "Pole kola wynosi: 78.5 cm2\n"
          ]
        }
      ],
      "source": [
        "r = 5 #cm\n",
        "pi = 3.14\n",
        "P = pi*r**2\n",
        "print(f'Pole kola wynosi: {P} cm2')"
      ]
    },
    {
      "cell_type": "code",
      "source": [
        "kapital = 1000 #PLN\n",
        "oprocentowanie = 3 #3%\n",
        "okres = 5 #lat\n",
        "wynik = kapital * (1 + (oprocentowanie/100))**5\n",
        "print(f'Wartość końcowa inwestycji wynosi: {wynik:.2f} PLN')"
      ],
      "metadata": {
        "colab": {
          "base_uri": "https://localhost:8080/"
        },
        "id": "HAdO27YiFP3j",
        "outputId": "e94aecc9-ffa0-48bf-dc9b-01f9f9639fc6"
      },
      "execution_count": 98,
      "outputs": [
        {
          "output_type": "stream",
          "name": "stdout",
          "text": [
            "Wartość końcowa inwestycji wynosi: 1159.27 PLN\n"
          ]
        }
      ]
    },
    {
      "cell_type": "code",
      "source": [
        "## 3x2 - 4x + 1 = 0\n",
        "a, b, c = (3,-4, 1)\n",
        "delta = b**2 - 4*a*c\n",
        "print(f'Delta wynosi: {delta}')"
      ],
      "metadata": {
        "colab": {
          "base_uri": "https://localhost:8080/"
        },
        "id": "FaMXsbc1H29z",
        "outputId": "88a1eb68-3d55-4021-f847-acfe165a2e98"
      },
      "execution_count": 99,
      "outputs": [
        {
          "output_type": "stream",
          "name": "stdout",
          "text": [
            "Delta wynosi: 4\n"
          ]
        }
      ]
    },
    {
      "cell_type": "code",
      "source": [
        "## an = 10 +4n / n=1..10 == ciag artmetyczny\n",
        "n1 = 1\n",
        "n10 = 10\n",
        "a1 = 10 + 4*n1\n",
        "a10 = 10 + 4*n10\n",
        "Sn = ((a1 + a10)/2)*n10\n",
        "print(f'Suma pierwszych 10 wyrazow ciagu wynosi: {Sn:.1f}')"
      ],
      "metadata": {
        "colab": {
          "base_uri": "https://localhost:8080/"
        },
        "id": "v2V2ZQcNMbbu",
        "outputId": "68d933b3-1edf-4b9f-8a40-62ecedc08882"
      },
      "execution_count": 100,
      "outputs": [
        {
          "output_type": "stream",
          "name": "stdout",
          "text": [
            "Suma pierwszych 10 wyrazow ciagu wynosi: 320.0\n"
          ]
        }
      ]
    },
    {
      "cell_type": "code",
      "source": [
        "## an = 8x2^n-1 / n=1..6 == ciag geometryczny\n",
        "n = 6\n",
        "n1 = 1\n",
        "n2 = 2\n",
        "a1 = 8*(2**(n1-1))\n",
        "a2 = 8*(2**(n2-1))\n",
        "q = a2/a1\n",
        "if q != 1:\n",
        "  Sn = ((1-q**6)/(1-q))*a1\n",
        "else:\n",
        "  Sn = a1*n6\n",
        "  \n",
        "print(f'Suma pierwszych 6 wyrazow ciagu wynosi: {Sn:.1f}')"
      ],
      "metadata": {
        "colab": {
          "base_uri": "https://localhost:8080/"
        },
        "id": "qnUM1aBQQT4o",
        "outputId": "3b5b5c8f-be60-4934-a97a-1312ed92c8f4"
      },
      "execution_count": 101,
      "outputs": [
        {
          "output_type": "stream",
          "name": "stdout",
          "text": [
            "Suma pierwszych 6 wyrazow ciagu wynosi: 504.0\n"
          ]
        }
      ]
    },
    {
      "cell_type": "code",
      "source": [
        "## x^2 + 5x +4 = 0 / wzór Viete'a\n",
        "a = 1\n",
        "b = 5\n",
        "c = 4\n",
        "delta = b**2 - 4*a*c\n",
        "if delta > 0:\n",
        "  print('x1+x2 =', -(b/a))\n",
        "  print('x1*x2 =', c/a)\n",
        "elif delta == 0:\n",
        "  print('x0 = ', -(b/2*a))\n",
        "else:\n",
        "  print('Brak rozwiązania')\n"
      ],
      "metadata": {
        "colab": {
          "base_uri": "https://localhost:8080/"
        },
        "id": "WAWA5AlcWgsi",
        "outputId": "e803275e-ccaf-4f92-dc42-9893ef4ed791"
      },
      "execution_count": 102,
      "outputs": [
        {
          "output_type": "stream",
          "name": "stdout",
          "text": [
            "x1+x2 = -5.0\n",
            "x1*x2 = 4.0\n"
          ]
        }
      ]
    },
    {
      "cell_type": "code",
      "source": [
        "## A = (x1,y1), B = (x2,y2), C = (x2,y1)\n",
        "## A = (2,4), B = (-4,6) / S = ? \n",
        "## S = ((x1+x2)/2, (y1+y2)/2)\n",
        "A = (2, 4)\n",
        "B = (-4, 6)\n",
        "S = ((A[0]+B[0])/2, (A[1]+B[1])/2)\n",
        "print(f'Środek odcinka AB: {S}')"
      ],
      "metadata": {
        "colab": {
          "base_uri": "https://localhost:8080/"
        },
        "id": "6amHlGF7bJaD",
        "outputId": "ddd37d5e-e4fb-4984-9284-4107fc2a06f3"
      },
      "execution_count": 103,
      "outputs": [
        {
          "output_type": "stream",
          "name": "stdout",
          "text": [
            "Środek odcinka AB: (-1.0, 5.0)\n"
          ]
        }
      ]
    },
    {
      "cell_type": "code",
      "source": [
        "## A = (x1,y1), B = (x2,y2), C = (x2,y1)\n",
        "## A = (3,2), B = (-1,1) / |AB| = ? \n",
        "## |AB| = sqrt((x2-x1)^2 + (y2-y1)^2)\n",
        "A = (3,2)\n",
        "B = (-1,-1)\n",
        "Odleglosc_A_B = (((B[0]-A[0])**2) + ((B[1]-A[1])**2))**0.5\n",
        "print(f'Odleglosc punktow A i B wynosi: {Odleglosc_A_B:.1f}')\n"
      ],
      "metadata": {
        "colab": {
          "base_uri": "https://localhost:8080/"
        },
        "id": "RI1XKxVMdCQb",
        "outputId": "1735b2df-926f-4c79-c4a8-1c9a2a8edf81"
      },
      "execution_count": 104,
      "outputs": [
        {
          "output_type": "stream",
          "name": "stdout",
          "text": [
            "Odleglosc punktow A i B wynosi: 5.0\n"
          ]
        }
      ]
    },
    {
      "cell_type": "code",
      "source": [
        "## x2 + 5x + 4 = 0 / delta, x0,x1,x2 =?\n",
        "a, b, c = 1, 5, 4\n",
        "delta = b**2 - 4*a*c\n",
        "if delta > 0:\n",
        "  print('x1 =', (-b-(delta**0.5))/2*a)\n",
        "  print('x2 =', (-b+(delta**0.5))/2*a) \n",
        "elif delta == 0:\n",
        "  print('x0 = ', -(b/2*a))\n",
        "else:\n",
        "  print('Brak rozwiązania')"
      ],
      "metadata": {
        "colab": {
          "base_uri": "https://localhost:8080/"
        },
        "id": "fZyMeuPge-5b",
        "outputId": "eccc58a7-1a91-4efe-b3ce-a79cee9ac550"
      },
      "execution_count": 105,
      "outputs": [
        {
          "output_type": "stream",
          "name": "stdout",
          "text": [
            "x1 = -4.0\n",
            "x2 = -1.0\n"
          ]
        }
      ]
    },
    {
      "cell_type": "code",
      "source": [
        "## 4,3,4.5,5 / średnia geometryczna / G = (a1*a2*..an)^1/n\n",
        "a1, a2, a3, a4 = 4, 3, 4.5, 5\n",
        "avg_g = (a1*a2*a3*a4)**(1/4)\n",
        "print(f'Srednia geometryczna podanych liczb: {avg_g:.2f}')\n"
      ],
      "metadata": {
        "colab": {
          "base_uri": "https://localhost:8080/"
        },
        "id": "A-gtZIU1h1er",
        "outputId": "b1ac55e0-e878-46d1-e904-33115b0b39e2"
      },
      "execution_count": 106,
      "outputs": [
        {
          "output_type": "stream",
          "name": "stdout",
          "text": [
            "Srednia geometryczna podanych liczb: 4.05\n"
          ]
        }
      ]
    },
    {
      "cell_type": "code",
      "source": [
        "## 1, 1/2, 1/4, 1/8,.... / Suma ciagu = ?\n",
        "a1, a2, a3, a4 = 1, 1/2, 1/4, 1/8\n",
        "q = a2/a1\n",
        "if q>-1 and q<1:\n",
        "  S = a1/(1-q)\n",
        "print(f'Suma ciagu wynosi: {S:.1f}')"
      ],
      "metadata": {
        "colab": {
          "base_uri": "https://localhost:8080/"
        },
        "id": "AOGS2A5zpuK7",
        "outputId": "41386dea-8247-4b80-b82d-6e9564dbd0b4"
      },
      "execution_count": 107,
      "outputs": [
        {
          "output_type": "stream",
          "name": "stdout",
          "text": [
            "Suma ciagu wynosi: 2.0\n"
          ]
        }
      ]
    },
    {
      "cell_type": "code",
      "source": [
        "## 10, 11, 9 / Odchylenie standardowe = ?\n",
        "a, b, c = 10, 11, 9\n",
        "sr_art = (a+b+c)/3.0\n",
        "wariancja2 = ((a - sr_art)**2 + (b - sr_art)**2 + (c - sr_art)**2)/3.0\n",
        "odch_stand = wariancja2**0.5\n",
        "print(f'odchylenie standardowe zestawu danych wynosi: {odch_stand:.2f}')"
      ],
      "metadata": {
        "colab": {
          "base_uri": "https://localhost:8080/"
        },
        "id": "Qc6vu3CMwN_0",
        "outputId": "ed6628fa-9d8c-4a9f-c1d1-239a8fd08ab0"
      },
      "execution_count": 108,
      "outputs": [
        {
          "output_type": "stream",
          "name": "stdout",
          "text": [
            "odchylenie standardowe zestawu danych wynosi: 0.82\n"
          ]
        }
      ]
    },
    {
      "cell_type": "code",
      "source": [
        ""
      ],
      "metadata": {
        "id": "XEocGxHYw3sE"
      },
      "execution_count": 108,
      "outputs": []
    }
  ]
}
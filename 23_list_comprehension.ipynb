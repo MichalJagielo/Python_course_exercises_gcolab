{
  "nbformat": 4,
  "nbformat_minor": 0,
  "metadata": {
    "colab": {
      "name": "23_cwiczeniaMJ.ipynb",
      "provenance": [],
      "collapsed_sections": [],
      "authorship_tag": "ABX9TyMvKkQSzHSmws1CKpEEhCPX",
      "include_colab_link": true
    },
    "kernelspec": {
      "name": "python3",
      "display_name": "Python 3"
    },
    "language_info": {
      "name": "python"
    }
  },
  "cells": [
    {
      "cell_type": "markdown",
      "metadata": {
        "id": "view-in-github",
        "colab_type": "text"
      },
      "source": [
        "<a href=\"https://colab.research.google.com/github/MichalJagielo/ExercisesPractice_Python_GoogleColab/blob/main/23_cwiczeniaMJ.ipynb\" target=\"_parent\"><img src=\"https://colab.research.google.com/assets/colab-badge.svg\" alt=\"Open In Colab\"/></a>"
      ]
    },
    {
      "cell_type": "code",
      "execution_count": null,
      "metadata": {
        "id": "_8KvEZ0IzIqg"
      },
      "outputs": [],
      "source": [
        "!wget https://storage.googleapis.com/esmartdata-courses-files/python-200-cwiczenia/gaming.txt"
      ]
    },
    {
      "cell_type": "code",
      "source": [
        "with open('gaming.txt','r') as file:\n",
        "  text = file.readlines()\n",
        "text = [line.replace(\"\\n\",'') for line in text]\n",
        "text = list(filter(None, text))\n",
        "print(text)\n"
      ],
      "metadata": {
        "id": "Qv3aG-xIziiu",
        "colab": {
          "base_uri": "https://localhost:8080/"
        },
        "outputId": "91153cdd-8ead-47a3-e622-ecf8b501db3d"
      },
      "execution_count": null,
      "outputs": [
        {
          "output_type": "stream",
          "name": "stdout",
          "text": [
            "['PLAYWAY', 'PlayWay to producent i wydawca gier komputerowych i mobilnych. Spółka charakteryzuje się bardzo dużą liczbą zespołów deweloperskich i dużą liczbą gier wytwarzanych jednocześnie.', 'PlayWay prowadzi sprzedaż m. in. za pośrednictwem portalu STEAM, AppStore oraz GooglePlay. Rynki USA i Niemiec to dwa największe rynki sprzedaży Grupy.', 'Dodatkowo, spółka posiada PlayWay Campus - kampus dla współpracujących zespołów programistów.', '11BIT', '11 bit studios to warszawski deweloper gier sprzedawanych na całym świecie. Oferta produktowa studia obejmuje gry wideo na wszystkie rodzaje platform sprzętowych skierowane do szerokiego grona odbiorców.', 'Sprzedaż i dystrybucja produktów jest prowadzona drogą elektroniczną za pośrednictwem specyficznych dla każdej platformy elektronicznych kanałów.', 'Wraz z Game Delivery Network spółka prowadzi również własny sklep internetowy Games Republic. W ramach 11 bit launchpad spółka zajmuje się także wydawaniem gier zewnętrznych deweloperów, zarówno na konsole jak i platformy mobilne.', 'CDPROJEKT', 'Grupa Kapitałowa CD Projekt zajmuje się dystrybucją gier wideo i filmów, produkcją własnych gier wideo oraz cyfrową dystrybucją gier do klientów.', 'W skład grupy wchodzą studio deweloperskie CD Projekt RED zajmujące się tworzeniem gier wideo, sklep internetowy CDP.pl oraz cyfrowa platforma GOG oferująca cyfrową dystrybucję gier. ', 'Poza rynkiem krajowym, spółka działa także na rynkach amerykańskim i zachodnioeuropejskim.']\n"
          ]
        }
      ]
    },
    {
      "cell_type": "code",
      "source": [
        "net_price = [5.5, 4.0, 9.0, 10.0]\n",
        "tax = 0.23\n",
        "vat_price = [round(x+(x*tax),2) for x in net_price]\n",
        "vat_price"
      ],
      "metadata": {
        "colab": {
          "base_uri": "https://localhost:8080/"
        },
        "id": "U4a9NJtgVC7A",
        "outputId": "4735ab3d-41d7-4770-b75b-8b97cd1fb07b"
      },
      "execution_count": null,
      "outputs": [
        {
          "output_type": "execute_result",
          "data": {
            "text/plain": [
              "[6.77, 4.92, 11.07, 12.3]"
            ]
          },
          "metadata": {},
          "execution_count": 110
        }
      ]
    },
    {
      "cell_type": "code",
      "source": [
        "pv = 1000  ##PLN\n",
        "n = 10     ##Lata\n",
        "rate = [0.01, 0.02, 0.03, 0.04, 0.05, 0.06, 0.07]   ##Stopa procentowa\n",
        "future_value = [round((pv*(1+rate)**n),2) for rate in rate]\n",
        "future_value\n"
      ],
      "metadata": {
        "colab": {
          "base_uri": "https://localhost:8080/"
        },
        "id": "zWLMGXRYXeVj",
        "outputId": "a0bb16c5-78ff-4c19-fed4-ba24caa500fd"
      },
      "execution_count": 114,
      "outputs": [
        {
          "output_type": "execute_result",
          "data": {
            "text/plain": [
              "[1104.62, 1218.99, 1343.92, 1480.24, 1628.89, 1790.85, 1967.15]"
            ]
          },
          "metadata": {},
          "execution_count": 114
        }
      ]
    },
    {
      "cell_type": "code",
      "source": [
        "pv = 1000  ##PLN\n",
        "n = 10     ##Okres\n",
        "rate = [0.01, 0.02, 0.03, 0.04, 0.05, 0.06, 0.07]   ##Stopa procentowa\n",
        "interest_value = [round((pv*(abs((1+rate)**n)-1)),2) for rate in rate]\n",
        "interest_value"
      ],
      "metadata": {
        "colab": {
          "base_uri": "https://localhost:8080/"
        },
        "id": "FDWOvMP9byh-",
        "outputId": "764b6ed3-7f8c-4458-fbda-f3f8d5da12fa"
      },
      "execution_count": 116,
      "outputs": [
        {
          "output_type": "execute_result",
          "data": {
            "text/plain": [
              "[104.62, 218.99, 343.92, 480.24, 628.89, 790.85, 967.15]"
            ]
          },
          "metadata": {},
          "execution_count": 116
        }
      ]
    },
    {
      "cell_type": "code",
      "source": [
        "# !wget https://storage.googleapis.com/esmartdata-courses-files/python-200-cwiczenia/plw.txt\n",
        "with open('plw.txt', 'r') as file:\n",
        "    lines = file.read().splitlines()\n",
        "lines.remove('')\n",
        "lines = [line.split(' ') for line in lines]\n",
        "print(lines)\n"
      ],
      "metadata": {
        "colab": {
          "base_uri": "https://localhost:8080/"
        },
        "id": "BzPMFBAUdPrV",
        "outputId": "5057eb6f-ca8a-4f72-fae6-6ac8cd1e6746"
      },
      "execution_count": 164,
      "outputs": [
        {
          "output_type": "stream",
          "name": "stdout",
          "text": [
            "[['PLAYWAY'], ['PlayWay', 'to', 'producent', 'i', 'wydawca', 'gier', 'komputerowych', 'i', 'mobilnych.', 'Spółka', 'charakteryzuje', 'się', 'bardzo', 'dużą', 'liczbą', 'zespołów', 'deweloperskich', 'i', 'dużą', 'liczbą', 'gier', 'wytwarzanych', 'jednocześnie.'], ['PlayWay', 'prowadzi', 'sprzedaż', 'm.', 'in.', 'za', 'pośrednictwem', 'portalu', 'STEAM,', 'AppStore', 'oraz', 'GooglePlay.', 'Rynki', 'USA', 'i', 'Niemiec', 'to', 'dwa', 'największe', 'rynki', 'sprzedaży', 'Grupy.'], ['Dodatkowo,', 'spółka', 'posiada', 'PlayWay', 'Campus', '-', 'kampus', 'dla', 'współpracujących', 'zespołów', 'programistów.']]\n"
          ]
        }
      ]
    },
    {
      "cell_type": "code",
      "source": [
        "with open('plw.txt', 'r') as file:\n",
        "    lines = file.read()\n",
        "\n",
        "lines = lines.replace(',','').replace('.','').replace('\\n',' ').lower().split()\n",
        "lines = sorted([line for line in lines if len(line) >= 8])\n",
        "print(lines)"
      ],
      "metadata": {
        "colab": {
          "base_uri": "https://localhost:8080/"
        },
        "id": "b5_QJvYWmMT6",
        "outputId": "1416134b-2aaf-4885-d75d-e7f9adba5d02"
      },
      "execution_count": 185,
      "outputs": [
        {
          "output_type": "stream",
          "name": "stdout",
          "text": [
            "['appstore', 'charakteryzuje', 'deweloperskich', 'dodatkowo', 'googleplay', 'jednocześnie', 'komputerowych', 'mobilnych', 'największe', 'pośrednictwem', 'producent', 'programistów', 'prowadzi', 'sprzedaż', 'sprzedaży', 'współpracujących', 'wytwarzanych', 'zespołów', 'zespołów']\n"
          ]
        }
      ]
    },
    {
      "cell_type": "code",
      "source": [
        "data = dict(zip(('a', 'b', 'c', 'd', 'e', 'f'),(1, 2, 3, 4, 5, 6)))\n",
        "data = [[key, value] for key, value in data.items()]\n",
        "data"
      ],
      "metadata": {
        "colab": {
          "base_uri": "https://localhost:8080/"
        },
        "id": "pMMag7y1o1T8",
        "outputId": "a699b88a-412a-4444-8da8-0dea3e30ff38"
      },
      "execution_count": 193,
      "outputs": [
        {
          "output_type": "execute_result",
          "data": {
            "text/plain": [
              "[['a', 1], ['b', 2], ['c', 3], ['d', 4], ['e', 5], ['f', 6]]"
            ]
          },
          "metadata": {},
          "execution_count": 193
        }
      ]
    }
  ]
}
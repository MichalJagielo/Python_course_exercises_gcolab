{
  "nbformat": 4,
  "nbformat_minor": 0,
  "metadata": {
    "colab": {
      "name": "19_cwiczeniaMJ.ipynb",
      "provenance": [],
      "collapsed_sections": [],
      "authorship_tag": "ABX9TyM0HUVHfEg6caYNI9tPQRB+",
      "include_colab_link": true
    },
    "kernelspec": {
      "name": "python3",
      "display_name": "Python 3"
    },
    "language_info": {
      "name": "python"
    }
  },
  "cells": [
    {
      "cell_type": "markdown",
      "metadata": {
        "id": "view-in-github",
        "colab_type": "text"
      },
      "source": [
        "<a href=\"https://colab.research.google.com/github/MichalJagielo/Exercises-and-Practice-Python-GoogleColab/blob/main/19_cwiczeniaMJ.ipynb\" target=\"_parent\"><img src=\"https://colab.research.google.com/assets/colab-badge.svg\" alt=\"Open In Colab\"/></a>"
      ]
    },
    {
      "cell_type": "code",
      "source": [
        "# [IN]: maximum(4, 2)\n",
        "# [OUT]: 4\n",
        "# [IN]: maximum(-4, 2)\n",
        "# [OUT]: 2\n",
        "def maximum(x, y):\n",
        "  if x>y:\n",
        "    print('max', x)\n",
        "  elif x == y:\n",
        "    print('equal')\n",
        "  else:\n",
        "    print('max', y)\n",
        "if __name__ == '__main__':\n",
        "  maximum(7,8)"
      ],
      "metadata": {
        "colab": {
          "base_uri": "https://localhost:8080/"
        },
        "id": "nelIndvUb6te",
        "outputId": "c7d97eb2-05f8-47da-b23f-483f744bce4d"
      },
      "execution_count": 45,
      "outputs": [
        {
          "output_type": "stream",
          "name": "stdout",
          "text": [
            "max 8\n"
          ]
        }
      ]
    },
    {
      "cell_type": "code",
      "source": [
        "# [IN]: maximum(4, 2, 1)\n",
        "# [OUT]: 4\n",
        "# [IN]: maximum(-3, 2, 5)\n",
        "# [OUT]: 5\n",
        "def maximum(x, y, z):\n",
        "  if x>y and x>z:\n",
        "    print('max x', x)\n",
        "  elif x == y == z:\n",
        "    print('equal xyz')\n",
        "  elif y>z:\n",
        "    print('max y', y)\n",
        "  else:\n",
        "    print('max z', z)\n",
        "if __name__ == '__main__':\n",
        "  maximum(4,2,3)"
      ],
      "metadata": {
        "colab": {
          "base_uri": "https://localhost:8080/"
        },
        "id": "kT_ecx27dDCn",
        "outputId": "a121ac5a-eceb-437b-fb7c-23f7463565ac"
      },
      "execution_count": 50,
      "outputs": [
        {
          "output_type": "stream",
          "name": "stdout",
          "text": [
            "max x 4\n"
          ]
        }
      ]
    },
    {
      "cell_type": "code",
      "source": [
        "def multi():\n",
        "  \n",
        "  multi = ((-4, 6, 2))\n",
        "  "
      ],
      "metadata": {
        "id": "U6RBbsaTeGI2"
      },
      "execution_count": null,
      "outputs": []
    },
    {
      "cell_type": "code",
      "source": [
        "\n",
        "def multi(x):\n",
        "  out = 1\n",
        "  for i in x:\n",
        "    out = out*i\n",
        "  return out\n",
        "print(multi([5,2,3]))\n"
      ],
      "metadata": {
        "colab": {
          "base_uri": "https://localhost:8080/"
        },
        "id": "R5-RQP6Eee6Q",
        "outputId": "d922b9be-9a29-4e5f-c986-f7dc4ca53bbc"
      },
      "execution_count": 82,
      "outputs": [
        {
          "output_type": "stream",
          "name": "stdout",
          "text": [
            "30\n"
          ]
        }
      ]
    },
    {
      "cell_type": "code",
      "source": [
        "# map_longest(['python', 'sql'])\n",
        "# map_longest(['java', 'sql', 'r'])\n",
        "def map_longest(words):\n",
        "  lenght=[]\n",
        "  for word in words:\n",
        "    lenght.append(len(word))\n",
        "  return max(lenght)\n",
        "map_longest(['python', 'sql', 'pythonjestfajny'])\n",
        "\n",
        "\n",
        "\n"
      ],
      "metadata": {
        "colab": {
          "base_uri": "https://localhost:8080/"
        },
        "id": "0RWHmSXpjdW3",
        "outputId": "c1e3ece0-2e1e-4813-93e2-7238065e745f"
      },
      "execution_count": 123,
      "outputs": [
        {
          "output_type": "execute_result",
          "data": {
            "text/plain": [
              "15"
            ]
          },
          "metadata": {},
          "execution_count": 123
        }
      ]
    },
    {
      "cell_type": "code",
      "source": [
        "# filter_ge_6(['programowanie', 'python', 'java', 'sql'])\n",
        "# ['programowanie', 'python']\n",
        "def filter_ge_6(words):\n",
        "  lenght=[]\n",
        "  for word in words:\n",
        "    if len(word) >= 6:\n",
        "      lenght.append((word))\n",
        "  return lenght\n",
        "if __name__ == '__main__':\n",
        " x = filter_ge_6(['java', 'sql'])\n",
        " y = filter_ge_6(['programowanie', 'python', 'java', 'sql'])\n",
        "print(x, y)\n"
      ],
      "metadata": {
        "colab": {
          "base_uri": "https://localhost:8080/"
        },
        "id": "gZr0f_VVjsNT",
        "outputId": "373250f7-2d8c-4c1b-ebee-4b04ffcb7d15"
      },
      "execution_count": 131,
      "outputs": [
        {
          "output_type": "stream",
          "name": "stdout",
          "text": [
            "[] ['programowanie', 'python']\n"
          ]
        }
      ]
    },
    {
      "cell_type": "code",
      "source": [
        "# factorial(6)\n",
        "# 720\n",
        "def factorial(n):\n",
        "  silnia = 1\n",
        "  for x in range(1, n+1):\n",
        "    silnia = silnia*x\n",
        "  x -= 1\n",
        "  return silnia\n",
        "factorial(6)\n",
        "    "
      ],
      "metadata": {
        "colab": {
          "base_uri": "https://localhost:8080/"
        },
        "id": "dyQ5nSFgyhq7",
        "outputId": "3e0bf48e-8aaf-4a71-aca7-edb39ef8fa5c"
      },
      "execution_count": 175,
      "outputs": [
        {
          "output_type": "execute_result",
          "data": {
            "text/plain": [
              "720"
            ]
          },
          "metadata": {},
          "execution_count": 175
        }
      ]
    },
    {
      "cell_type": "code",
      "source": [
        "#count_str(['p', 2, 4.3, None])\n",
        "def count_str(elements):\n",
        "  flag = 0 \n",
        "  for element in elements:\n",
        "    if isinstance(element, str):\n",
        "      flag += 1\n",
        "  return flag\n",
        "count_str(['p', 'gg',2, 4.3, None, 'ttt'])\n"
      ],
      "metadata": {
        "colab": {
          "base_uri": "https://localhost:8080/"
        },
        "id": "PjvuXxSe_Ljb",
        "outputId": "7a3ee1ba-4b62-4385-dee1-4f5577b9011c"
      },
      "execution_count": 180,
      "outputs": [
        {
          "output_type": "execute_result",
          "data": {
            "text/plain": [
              "3"
            ]
          },
          "metadata": {},
          "execution_count": 180
        }
      ]
    },
    {
      "cell_type": "code",
      "source": [
        "#remove_duplicates([1, 5, 3, 2, 2, 4, 2, 4])\n",
        "def remove_duplicates(numbers):\n",
        "  lista = set()\n",
        "  for number in numbers:\n",
        "    lista.add(number)\n",
        "  return list(lista)\n",
        "#remove_duplicates([1, 1, 1, 1])\n",
        "remove_duplicates([1, 5, 3, 2, 2, 4, 2, 4])\n"
      ],
      "metadata": {
        "colab": {
          "base_uri": "https://localhost:8080/"
        },
        "id": "Gh0ULB9kAk9M",
        "outputId": "8e7375be-193f-4362-fedd-fde881204145"
      },
      "execution_count": 187,
      "outputs": [
        {
          "output_type": "execute_result",
          "data": {
            "text/plain": [
              "[1, 2, 3, 4, 5]"
            ]
          },
          "metadata": {},
          "execution_count": 187
        }
      ]
    },
    {
      "cell_type": "code",
      "source": [
        "#is_distinct([1, 2, 3])\n",
        "#is_distinct([1, 2, 3, 3])\n",
        "def is_distinct(numbers):\n",
        "  lista = set()\n",
        "  for number in numbers:\n",
        "    lista.add(number)\n",
        "  if len(lista) == len(numbers):\n",
        "    return True, 'unique' \n",
        "  else:\n",
        "    return False, 'not unique'    \n",
        "is_distinct([1, 2, 3])\n",
        "#is_distinct([1, 2, 3, 3])\n",
        "  \n"
      ],
      "metadata": {
        "colab": {
          "base_uri": "https://localhost:8080/"
        },
        "id": "Bit_r4K3BwzQ",
        "outputId": "826b4c7c-802d-4a43-de01-c1677d028eb9"
      },
      "execution_count": 193,
      "outputs": [
        {
          "output_type": "execute_result",
          "data": {
            "text/plain": [
              "(True, 'unique')"
            ]
          },
          "metadata": {},
          "execution_count": 193
        }
      ]
    },
    {
      "cell_type": "code",
      "source": [
        "def function(idx, l=[]):\n",
        "  for i in range(idx):\n",
        "    l.append(i ** 3)\n",
        "  print(l)\n",
        "function(3)\n",
        "function(5, ['a', 'b', 'c'])\n",
        "function(6)"
      ],
      "metadata": {
        "colab": {
          "base_uri": "https://localhost:8080/"
        },
        "id": "s7NKLa6xEmFN",
        "outputId": "c8e58a50-c881-44e9-b95e-e31774dffd8e"
      },
      "execution_count": 212,
      "outputs": [
        {
          "output_type": "stream",
          "name": "stdout",
          "text": [
            "[0, 1, 8]\n",
            "['a', 'b', 'c', 0, 1, 8, 27, 64]\n",
            "[0, 1, 8, 0, 1, 8, 27, 64, 125]\n"
          ]
        }
      ]
    },
    {
      "cell_type": "code",
      "source": [
        "def function(*args, **kwargs):\n",
        "    print(args, kwargs)\n",
        "#function(3, 4)\n",
        "#function(x=3, y=4)\n",
        "function(1, 2, x=3, y=4)"
      ],
      "metadata": {
        "colab": {
          "base_uri": "https://localhost:8080/"
        },
        "id": "80qEaQ4FG_tf",
        "outputId": "b7c5c534-9d45-4ff2-8581-715ba1fbc217"
      },
      "execution_count": 215,
      "outputs": [
        {
          "output_type": "stream",
          "name": "stdout",
          "text": [
            "(1, 2) {'x': 3, 'y': 4}\n"
          ]
        }
      ]
    },
    {
      "cell_type": "code",
      "source": [
        "#is_palindrome('kajak')\n",
        "def is_palindrome(word):\n",
        "  x = word.replace(' ','').lower()\n",
        "  print(x)\n",
        "  y = x[::-1]\n",
        "  print(y)\n",
        "  if x in y: \n",
        "    print(True)\n",
        "  else:\n",
        "    print(False)\n",
        "is_palindrome('kobyla nie ma maly bok')    \n",
        "#is_palindrome('kobyla ma maly bok')"
      ],
      "metadata": {
        "colab": {
          "base_uri": "https://localhost:8080/"
        },
        "id": "egFkptwOHYpI",
        "outputId": "1c6922dd-436e-4941-844a-c76f003584fb"
      },
      "execution_count": 243,
      "outputs": [
        {
          "output_type": "stream",
          "name": "stdout",
          "text": [
            "kobylaniemamalybok\n",
            "kobylamameinalybok\n",
            "False\n"
          ]
        }
      ]
    }
  ]
}
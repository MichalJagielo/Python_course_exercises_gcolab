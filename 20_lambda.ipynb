{
  "nbformat": 4,
  "nbformat_minor": 0,
  "metadata": {
    "colab": {
      "name": "20_cwiczeniaMJ.ipynb",
      "provenance": [],
      "collapsed_sections": [],
      "authorship_tag": "ABX9TyNke8x5c7CAKIyd9wkLqLkL",
      "include_colab_link": true
    },
    "kernelspec": {
      "name": "python3",
      "display_name": "Python 3"
    },
    "language_info": {
      "name": "python"
    }
  },
  "cells": [
    {
      "cell_type": "markdown",
      "metadata": {
        "id": "view-in-github",
        "colab_type": "text"
      },
      "source": [
        "<a href=\"https://colab.research.google.com/github/MichalJagielo/Exercises-and-Practice-Python-GoogleColab/blob/main/20_cwiczeniaMJ.ipynb\" target=\"_parent\"><img src=\"https://colab.research.google.com/assets/colab-badge.svg\" alt=\"Open In Colab\"/></a>"
      ]
    },
    {
      "cell_type": "code",
      "execution_count": null,
      "metadata": {
        "colab": {
          "base_uri": "https://localhost:8080/"
        },
        "id": "s1ccUds4LrSV",
        "outputId": "a1e93288-76ca-49c4-beee-ba1061863585"
      },
      "outputs": [
        {
          "output_type": "stream",
          "name": "stdout",
          "text": [
            "[7, 7, 10]\n"
          ]
        }
      ],
      "source": [
        "stocks = ['playway', 'boombit', 'cd projekt']\n",
        "\n",
        "x = list(map(lambda w: len(w), stocks))\n",
        "print(x)"
      ]
    },
    {
      "cell_type": "code",
      "source": [
        "#sort_list([(1, 3), (4, 1), (4, 2), (0, 7)])\n",
        "def sort_list(data):\n",
        "  sorted_l = sorted(data, key=lambda el: (el[1], el[0]))\n",
        "  return sorted_l\n",
        "sort_list([(1, 3), (4, 1), (4, 2), (0, 7)])\n",
        "#sort_list([('a', 'b'), ('g', 'a'), ('z', 'd')])"
      ],
      "metadata": {
        "colab": {
          "base_uri": "https://localhost:8080/"
        },
        "id": "IHC-eq0EO-Mw",
        "outputId": "3cdc303f-7195-40fe-8730-83874d380cb9"
      },
      "execution_count": 55,
      "outputs": [
        {
          "output_type": "execute_result",
          "data": {
            "text/plain": [
              "[(4, 1), (4, 2), (1, 3), (0, 7)]"
            ]
          },
          "metadata": {},
          "execution_count": 55
        }
      ]
    },
    {
      "cell_type": "code",
      "source": [
        "def func_1(x, y):\n",
        "  func_2 = lambda x, y: x + y + 2\n",
        "  \n",
        "  return func_2\n",
        "  \n",
        "\n",
        "func_1(2,8)\n"
      ],
      "metadata": {
        "colab": {
          "base_uri": "https://localhost:8080/"
        },
        "id": "AKJkUgytXvQT",
        "outputId": "ebb542ac-ba3e-4afc-da6c-7f818677a6d1"
      },
      "execution_count": 2,
      "outputs": [
        {
          "output_type": "execute_result",
          "data": {
            "text/plain": [
              "<function __main__.func_1.<locals>.<lambda>>"
            ]
          },
          "metadata": {},
          "execution_count": 2
        }
      ]
    },
    {
      "cell_type": "code",
      "source": [
        "items = [(3, 4), (2, 5), (1, 4), (6, 1)]\n",
        "\n",
        "items.sort(key=lambda x:x[0]**2 + x[1]**2)\n",
        "print(items)\n"
      ],
      "metadata": {
        "id": "so04olaranYS",
        "colab": {
          "base_uri": "https://localhost:8080/"
        },
        "outputId": "69536e9b-4301-429f-bde7-e427be3fcdc6"
      },
      "execution_count": 81,
      "outputs": [
        {
          "output_type": "stream",
          "name": "stdout",
          "text": [
            "[(1, 4), (3, 4), (2, 5), (6, 1)]\n"
          ]
        }
      ]
    },
    {
      "cell_type": "code",
      "source": [
        "stocks = [\n",
        "    {'indeks': 'mWIG40', 'name': 'TEN', 'price': 304},\n",
        "    {'indeks': 'mWIG40', 'name': 'PLW', 'price': 309},\n",
        "    {'indeks': 'sWIG80', 'name': 'BBT', 'price': 22}\n",
        "]\n",
        "stocks1 = sorted(stocks, key=lambda k:k['price'])\n",
        "stocks1"
      ],
      "metadata": {
        "colab": {
          "base_uri": "https://localhost:8080/"
        },
        "id": "uqCW9cxrqz9N",
        "outputId": "57d08075-eaef-44be-dd35-7959b66f16ca"
      },
      "execution_count": 86,
      "outputs": [
        {
          "output_type": "execute_result",
          "data": {
            "text/plain": [
              "[{'indeks': 'sWIG80', 'name': 'BBT', 'price': 22},\n",
              " {'indeks': 'mWIG40', 'name': 'TEN', 'price': 304},\n",
              " {'indeks': 'mWIG40', 'name': 'PLW', 'price': 309}]"
            ]
          },
          "metadata": {},
          "execution_count": 86
        }
      ]
    },
    {
      "cell_type": "code",
      "source": [
        "stocks = [\n",
        "    {'indeks': 'mWIG40', 'name': 'TEN', 'price': 304},\n",
        "    {'indeks': 'mWIG40', 'name': 'PLW', 'price': 309},\n",
        "    {'indeks': 'sWIG80', 'name': 'BBT', 'price': 22}\n",
        "]\n",
        "x = list(filter(lambda el: el['indeks']=='mWIG40', stocks))\n",
        "print((x))\n",
        "# for el in stocks:\n",
        "#   if 'mWIG40' in el.values():\n",
        "#     print(el)"
      ],
      "metadata": {
        "colab": {
          "base_uri": "https://localhost:8080/"
        },
        "id": "K6xxQSnistx_",
        "outputId": "c074ecf0-9603-4862-bc27-9643d9f5a0e3"
      },
      "execution_count": 24,
      "outputs": [
        {
          "output_type": "stream",
          "name": "stdout",
          "text": [
            "[{'indeks': 'mWIG40', 'name': 'TEN', 'price': 304}, {'indeks': 'mWIG40', 'name': 'PLW', 'price': 309}]\n"
          ]
        }
      ]
    },
    {
      "cell_type": "code",
      "source": [
        "stocks = [\n",
        "    {'indeks': 'mWIG40', 'name': 'TEN', 'price': 304},\n",
        "    {'indeks': 'mWIG40', 'name': 'PLW', 'price': 309},\n",
        "    {'indeks': 'sWIG80', 'name': 'BBT', 'price': 22}\n",
        "]\n",
        "x = list(map(lambda el: el['indeks']=='mWIG40', stocks))\n",
        "print((x))\n",
        "# for el in stocks:\n",
        "#   if 'mWIG40' in el.values():\n",
        "#     print(True)\n",
        "#   else:\n",
        "#     print(False)"
      ],
      "metadata": {
        "colab": {
          "base_uri": "https://localhost:8080/"
        },
        "id": "PlyoGvt50oxC",
        "outputId": "7c13fa79-3c37-4fee-8918-52800bc5d0b4"
      },
      "execution_count": 23,
      "outputs": [
        {
          "output_type": "stream",
          "name": "stdout",
          "text": [
            "[True, True, False]\n"
          ]
        }
      ]
    },
    {
      "cell_type": "code",
      "source": [
        "items = ['P-1', 'R-2', 'D-4', 'F-6']\n",
        "item = map(lambda el: el.replace('-',''),items)\n",
        "print(list(item))"
      ],
      "metadata": {
        "colab": {
          "base_uri": "https://localhost:8080/"
        },
        "id": "of-6ZyRO2HoR",
        "outputId": "ca9c52fa-d2a2-4ae0-9c35-3f0fcea4e62a"
      },
      "execution_count": 167,
      "outputs": [
        {
          "output_type": "stream",
          "name": "stdout",
          "text": [
            "['P1', 'R2', 'D4', 'F6']\n"
          ]
        }
      ]
    },
    {
      "cell_type": "code",
      "source": [
        "num1 = [4, 2, 6, 2, 11]\n",
        "num2 = [5, 2, 3, 3, 9]\n",
        "num3 = map(lambda x,y: x%y,num1,num2)\n",
        "\n",
        "print(list(num3))"
      ],
      "metadata": {
        "colab": {
          "base_uri": "https://localhost:8080/"
        },
        "id": "xcP512PI8qXK",
        "outputId": "3d0870e1-771a-467d-a1e7-2d175979ae45"
      },
      "execution_count": 22,
      "outputs": [
        {
          "output_type": "stream",
          "name": "stdout",
          "text": [
            "[4, 0, 0, 2, 2]\n"
          ]
        }
      ]
    }
  ]
}
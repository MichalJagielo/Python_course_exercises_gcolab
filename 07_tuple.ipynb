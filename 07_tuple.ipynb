{
  "nbformat": 4,
  "nbformat_minor": 0,
  "metadata": {
    "colab": {
      "name": "07_cwiczeniaMJ.ipynb",
      "provenance": [],
      "collapsed_sections": [],
      "authorship_tag": "ABX9TyNH+DPGOjqDO1joAE56Ii9Q",
      "include_colab_link": true
    },
    "kernelspec": {
      "name": "python3",
      "display_name": "Python 3"
    },
    "language_info": {
      "name": "python"
    }
  },
  "cells": [
    {
      "cell_type": "markdown",
      "metadata": {
        "id": "view-in-github",
        "colab_type": "text"
      },
      "source": [
        "<a href=\"https://colab.research.google.com/github/MichalJagielo/Exercises-and-Practice-Python-GoogleColab/blob/main/07_cwiczeniaMJ.ipynb\" target=\"_parent\"><img src=\"https://colab.research.google.com/assets/colab-badge.svg\" alt=\"Open In Colab\"/></a>"
      ]
    },
    {
      "cell_type": "code",
      "execution_count": 4,
      "metadata": {
        "colab": {
          "base_uri": "https://localhost:8080/"
        },
        "id": "yZ0GGwhj2Cez",
        "outputId": "91670dc7-071d-46e3-b598-95288916b735"
      },
      "outputs": [
        {
          "output_type": "execute_result",
          "data": {
            "text/plain": [
              "('CDR', 'PKO', 'PEO', 'PLW', 'AMC', 'BFT')"
            ]
          },
          "metadata": {},
          "execution_count": 4
        }
      ],
      "source": [
        "wig20 = ('CDR', 'PKO', 'PEO')\n",
        "mwig40 = ('PLW', 'AMC', 'BFT')\n",
        "wig20 + mwig40"
      ]
    },
    {
      "cell_type": "code",
      "source": [
        "wig20 = ('CDR', 'PKO', 'PEO')\n",
        "mwig40 = ('PLW', 'AMC', 'BFT')\n",
        "x = ((wig20),(mwig40))\n",
        "x"
      ],
      "metadata": {
        "colab": {
          "base_uri": "https://localhost:8080/"
        },
        "id": "j27MZaOh2bx3",
        "outputId": "0655e4d1-886f-43d0-f7ca-b9aa174afc60"
      },
      "execution_count": 8,
      "outputs": [
        {
          "output_type": "execute_result",
          "data": {
            "text/plain": [
              "(('CDR', 'PKO', 'PEO'), ('PLW', 'AMC', 'BFT'))"
            ]
          },
          "metadata": {},
          "execution_count": 8
        }
      ]
    },
    {
      "cell_type": "code",
      "source": [
        "members = (('Kasia', 23), ('Tomek', 19))\n",
        "x = ('Adam', 26)\n",
        "y=list(members)\n",
        "y.insert(1, x)\n",
        "t = tuple(y)\n",
        "t\n",
        "# members = (members[0], ('Adam', 26), members[1])\n"
      ],
      "metadata": {
        "colab": {
          "base_uri": "https://localhost:8080/"
        },
        "id": "gEkNx6r13KqR",
        "outputId": "675056e4-c7d5-4127-b7c9-945d56f1edc0"
      },
      "execution_count": 25,
      "outputs": [
        {
          "output_type": "execute_result",
          "data": {
            "text/plain": [
              "(('Kasia', 23), ('Adam', 26), ('Tomek', 19))"
            ]
          },
          "metadata": {},
          "execution_count": 25
        }
      ]
    },
    {
      "cell_type": "code",
      "source": [
        "default = ('YES', 'NO', 'NO', 'YES', 'NO')\n",
        "print('Liczba wystapien YES =',default.count('YES'))\n"
      ],
      "metadata": {
        "colab": {
          "base_uri": "https://localhost:8080/"
        },
        "id": "0WKOujiT63jn",
        "outputId": "505983bb-176e-4df1-899d-4dbc8151af9d"
      },
      "execution_count": 27,
      "outputs": [
        {
          "output_type": "stream",
          "name": "stdout",
          "text": [
            "Liczba wystapien YES = 2\n"
          ]
        }
      ]
    },
    {
      "cell_type": "code",
      "source": [
        "names = ('Monika', 'Tomek', 'Adam', 'Olaf')\n",
        "x = sorted(names)\n",
        "x"
      ],
      "metadata": {
        "colab": {
          "base_uri": "https://localhost:8080/"
        },
        "id": "N0A4ojMv7T6P",
        "outputId": "fa7af932-e89d-425e-dd37-26f43d5c671c"
      },
      "execution_count": 28,
      "outputs": [
        {
          "output_type": "execute_result",
          "data": {
            "text/plain": [
              "['Adam', 'Monika', 'Olaf', 'Tomek']"
            ]
          },
          "metadata": {},
          "execution_count": 28
        }
      ]
    },
    {
      "cell_type": "code",
      "source": [
        "info = (('Monika', 19), ('Tomek', 21), ('Adam', 18), ('Jarek', 30))\n",
        "x = sorted(info, key=lambda tup: tup[1], reverse=True)\n",
        "y = sorted(info, key=lambda tup: tup[1])\n",
        "x, y\n"
      ],
      "metadata": {
        "colab": {
          "base_uri": "https://localhost:8080/"
        },
        "id": "rxnqroR_7lI2",
        "outputId": "140706b4-2ed5-49b5-e06d-d370fb304970"
      },
      "execution_count": 58,
      "outputs": [
        {
          "output_type": "execute_result",
          "data": {
            "text/plain": [
              "([('Jarek', 30), ('Tomek', 21), ('Monika', 19), ('Adam', 18)],\n",
              " [('Adam', 18), ('Monika', 19), ('Tomek', 21), ('Jarek', 30)])"
            ]
          },
          "metadata": {},
          "execution_count": 58
        }
      ]
    },
    {
      "cell_type": "code",
      "source": [
        "stocks = (('Playway', ('PLW', 310)), ('CD Projekt', ('CDR', 300)))\n",
        "print(stocks[0][1][0])"
      ],
      "metadata": {
        "colab": {
          "base_uri": "https://localhost:8080/"
        },
        "id": "by6ABqN2A8Yx",
        "outputId": "b75ddac9-2cc1-4ce5-8f4f-a1fd9ca5ddc6"
      },
      "execution_count": 55,
      "outputs": [
        {
          "output_type": "stream",
          "name": "stdout",
          "text": [
            "PLW\n"
          ]
        }
      ]
    }
  ]
}
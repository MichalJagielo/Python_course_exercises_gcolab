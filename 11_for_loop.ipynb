{
  "nbformat": 4,
  "nbformat_minor": 0,
  "metadata": {
    "colab": {
      "name": "11_cwiczeniaMJ.ipynb",
      "provenance": [],
      "authorship_tag": "ABX9TyOEePs2tJr4KkUmA+SURW2T",
      "include_colab_link": true
    },
    "kernelspec": {
      "name": "python3",
      "display_name": "Python 3"
    },
    "language_info": {
      "name": "python"
    }
  },
  "cells": [
    {
      "cell_type": "markdown",
      "metadata": {
        "id": "view-in-github",
        "colab_type": "text"
      },
      "source": [
        "<a href=\"https://colab.research.google.com/github/MichalJagielo/Exercises-and-Practice-Python-GoogleColab/blob/main/11_cwiczeniaMJ.ipynb\" target=\"_parent\"><img src=\"https://colab.research.google.com/assets/colab-badge.svg\" alt=\"Open In Colab\"/></a>"
      ]
    },
    {
      "cell_type": "code",
      "execution_count": 9,
      "metadata": {
        "colab": {
          "base_uri": "https://localhost:8080/"
        },
        "id": "CR0AujX9yjgO",
        "outputId": "1e883867-16dd-4b98-c9ad-660a6c664062"
      },
      "outputs": [
        {
          "output_type": "stream",
          "name": "stdout",
          "text": [
            "11,22,33,44,55,66,77,88,99\n"
          ]
        }
      ],
      "source": [
        "r = []\n",
        "for i in range(10,100):\n",
        "  if i % 11 == 0:\n",
        "    r.append(str(i))\n",
        "print(','.join(r))"
      ]
    },
    {
      "cell_type": "code",
      "source": [
        "r = []\n",
        "for i in range(10,100):\n",
        "  if i % 11 == 0 and i % 3 != 0:\n",
        "    r.append(str(i))\n",
        "print(','.join(r))"
      ],
      "metadata": {
        "colab": {
          "base_uri": "https://localhost:8080/"
        },
        "id": "vzstfcPHzK-U",
        "outputId": "5f691f9d-12af-47fb-8765-1aec696e6dc0"
      },
      "execution_count": 10,
      "outputs": [
        {
          "output_type": "stream",
          "name": "stdout",
          "text": [
            "11,22,44,55,77,88\n"
          ]
        }
      ]
    },
    {
      "cell_type": "code",
      "source": [
        "items = [1, 3, 4, 5, 6, 9, 10, 17, 23, 24]\n",
        "for i in items:\n",
        "  if i % 2 == 0:\n",
        "    print(i, end=' ')"
      ],
      "metadata": {
        "colab": {
          "base_uri": "https://localhost:8080/"
        },
        "id": "OvfapF--0MAd",
        "outputId": "a0b30933-63c5-4301-f4a0-9134b3f422ea"
      },
      "execution_count": 19,
      "outputs": [
        {
          "output_type": "stream",
          "name": "stdout",
          "text": [
            "4 6 10 24 "
          ]
        }
      ]
    },
    {
      "cell_type": "code",
      "source": [
        "items = [1, 5, 3, 2, 2, 4, 2, 4]\n",
        "items1 = []\n",
        "\n",
        "for i in items:\n",
        "  if i not in items1:\n",
        "    items1.append(i)\n",
        "print(items1)\n",
        "  "
      ],
      "metadata": {
        "colab": {
          "base_uri": "https://localhost:8080/"
        },
        "id": "gS-12vPI7CQ6",
        "outputId": "8d9dc6ed-d90f-4d6e-f9fe-5631b979be66"
      },
      "execution_count": 12,
      "outputs": [
        {
          "output_type": "stream",
          "name": "stdout",
          "text": [
            "[1, 5, 3, 2, 4]\n"
          ]
        }
      ]
    },
    {
      "cell_type": "code",
      "source": [
        "text = 'Python jest bardzo popularnym językiem programowania'\n",
        "x = text.split()\n",
        "y=[]\n",
        "for i, el in enumerate(x):\n",
        "  if i < 4:\n",
        "    y.append(el.lower())\n",
        "print(y)\n"
      ],
      "metadata": {
        "colab": {
          "base_uri": "https://localhost:8080/"
        },
        "id": "rew4v0OTWk4P",
        "outputId": "778c493e-43d3-46cd-d88b-83a4792d1a39"
      },
      "execution_count": 122,
      "outputs": [
        {
          "output_type": "stream",
          "name": "stdout",
          "text": [
            "['python', 'jest', 'bardzo', 'popularnym']\n"
          ]
        }
      ]
    },
    {
      "cell_type": "code",
      "source": [
        "probabilities = [0.21, 0.91, 0.34, 0.55, 0.76, 0.02]\n",
        "level = 0.5\n",
        "print(list(i for i in probabilities if i > level))"
      ],
      "metadata": {
        "colab": {
          "base_uri": "https://localhost:8080/"
        },
        "id": "naP8ezF6ZeG0",
        "outputId": "57ce1e95-42d0-4a66-ff89-090027ae2e89"
      },
      "execution_count": 30,
      "outputs": [
        {
          "output_type": "stream",
          "name": "stdout",
          "text": [
            "[0.91, 0.55, 0.76]\n"
          ]
        }
      ]
    },
    {
      "cell_type": "code",
      "source": [
        "probabilities = [0.21, 0.91, 0.34, 0.55, 0.76, 0.02]\n",
        "level = 0.5\n",
        "new = []\n",
        "for i in probabilities:\n",
        "  if i < level:\n",
        "    new.append(0)\n",
        "  else:\n",
        "    new.append(1)\n",
        "print(new)"
      ],
      "metadata": {
        "colab": {
          "base_uri": "https://localhost:8080/"
        },
        "id": "amE3TRqFaPM-",
        "outputId": "363232a5-0237-4119-f6a3-0e73015980a8"
      },
      "execution_count": 32,
      "outputs": [
        {
          "output_type": "stream",
          "name": "stdout",
          "text": [
            "[0, 1, 0, 1, 1, 0]\n"
          ]
        }
      ]
    },
    {
      "cell_type": "code",
      "source": [
        "items = ['x', 'y', 'z', 'y', 'x', 'y', 'y', 'z', 'x']\n",
        "d = {i:items.count(i) for i in items}\n",
        "print(d)\n",
        "  "
      ],
      "metadata": {
        "colab": {
          "base_uri": "https://localhost:8080/"
        },
        "id": "Py5m-G4NbI_D",
        "outputId": "90b96e29-ec93-4d9a-9a2f-d081dd21e68c"
      },
      "execution_count": 43,
      "outputs": [
        {
          "output_type": "stream",
          "name": "stdout",
          "text": [
            "{'x': 3, 'y': 4, 'z': 2}\n"
          ]
        }
      ]
    },
    {
      "cell_type": "code",
      "source": [
        "text = \"\"\"Python – język programowania wysokiego poziomu\n",
        "ogólnego przeznaczenia, o rozbudowanym pakiecie bibliotek\n",
        "standardowych, którego ideą przewodnią jest czytelność i\n",
        "klarowność kodu źródłowego.\"\"\""
      ],
      "metadata": {
        "id": "5n1B_833eBEu"
      },
      "execution_count": 127,
      "outputs": []
    },
    {
      "cell_type": "code",
      "source": [
        "new = text.split()\n",
        "new = [n.lower() for n in new]\n",
        "new = [n.replace('.','').replace(',','') for n in new]\n",
        "new = [n for n in new if len(n) > 10]\n",
        "print(new)\n"
      ],
      "metadata": {
        "colab": {
          "base_uri": "https://localhost:8080/"
        },
        "id": "vJK6DU96eGrZ",
        "outputId": "c44ed10a-00cd-46a7-ab16-fa6fcbcaf941"
      },
      "execution_count": 128,
      "outputs": [
        {
          "output_type": "stream",
          "name": "stdout",
          "text": [
            "['programowania', 'przeznaczenia', 'rozbudowanym', 'standardowych']\n"
          ]
        }
      ]
    },
    {
      "cell_type": "code",
      "source": [
        "indexes = [\n",
        "    'WIG', 'WIG-banki', 'WIG-budownictwo', 'WIG-CEE', \n",
        "    'WIG-chemia', 'WIG-energia', 'WIG-ESG', 'WIG-górnictwo',\n",
        "    'WIG-informatyka', 'WIG-leki', 'WIG-media', 'WIG-motoryzacja',\n",
        "    'WIG-nieruchomości', 'WIG-odzież', 'WIG-paliwa', 'WIG-Poland',\n",
        "    'WIG-spożywczy', 'WIG-telekomunikacja', 'WIG-Ukraine',\n",
        "    'WIG.GAMES', 'WIG.MS-BAS', 'WIG.MS-FIN', 'WIG.MS-PET',\n",
        "    'WIG20', 'WIG20dvp', 'WIG20lev', 'WIG20short', 'WIG20TR',\n",
        "    'WIG30', 'WIG30TR', 'WIGdiv', 'WIGtech'\n",
        "]\n",
        "c = '20'\n",
        "d = '30'\n",
        "for el in indexes:\n",
        "  if c in el or d in el:\n",
        "    print(el)"
      ],
      "metadata": {
        "colab": {
          "base_uri": "https://localhost:8080/"
        },
        "id": "c_xqPxtJl7yj",
        "outputId": "fb31e6e4-d587-422a-8b8d-8e15a37a67b0"
      },
      "execution_count": 118,
      "outputs": [
        {
          "output_type": "stream",
          "name": "stdout",
          "text": [
            "WIG20\n",
            "WIG20dvp\n",
            "WIG20lev\n",
            "WIG20short\n",
            "WIG20TR\n",
            "WIG30\n",
            "WIG30TR\n"
          ]
        }
      ]
    },
    {
      "cell_type": "code",
      "source": [
        "gaming = {\n",
        "    '11B': 362.5,\n",
        "    'CDR': 297.0,\n",
        "    'CIG': 0.85,\n",
        "    'PLW': 318.0,\n",
        "    'TEN': 300.0\n",
        "}\n",
        "for k, v in gaming.items():\n",
        "  if v > 100.00:\n",
        "    print(k)"
      ],
      "metadata": {
        "colab": {
          "base_uri": "https://localhost:8080/"
        },
        "id": "nYl1gjHCxLSX",
        "outputId": "8f6d4b15-3e1b-4020-aabf-88bbbf6e55f5"
      },
      "execution_count": 129,
      "outputs": [
        {
          "output_type": "stream",
          "name": "stdout",
          "text": [
            "11B\n",
            "CDR\n",
            "PLW\n",
            "TEN\n"
          ]
        }
      ]
    },
    {
      "cell_type": "code",
      "source": [
        "names = ['Jack', 'Leon', 'Alice', '32-3c', 'Bob']\n",
        "for el in names:\n",
        "  if el.isalpha():\n",
        "    print(f'Hello {el}')"
      ],
      "metadata": {
        "colab": {
          "base_uri": "https://localhost:8080/"
        },
        "id": "z6-b4tIdxrL7",
        "outputId": "cfe649be-a4c3-44cd-c3f5-1b75cb24d19e"
      },
      "execution_count": 120,
      "outputs": [
        {
          "output_type": "stream",
          "name": "stdout",
          "text": [
            "Hello Jack\n",
            "Hello Leon\n",
            "Hello Alice\n",
            "Hello Bob\n"
          ]
        }
      ]
    }
  ]
}
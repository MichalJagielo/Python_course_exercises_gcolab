{
  "nbformat": 4,
  "nbformat_minor": 0,
  "metadata": {
    "colab": {
      "name": "09_cwiczeniaMJ.ipynb",
      "provenance": [],
      "authorship_tag": "ABX9TyMh/iuOtSvDp+1SQ1ew3xIY",
      "include_colab_link": true
    },
    "kernelspec": {
      "name": "python3",
      "display_name": "Python 3"
    },
    "language_info": {
      "name": "python"
    }
  },
  "cells": [
    {
      "cell_type": "markdown",
      "metadata": {
        "id": "view-in-github",
        "colab_type": "text"
      },
      "source": [
        "<a href=\"https://colab.research.google.com/github/MichalJagielo/Exercises-and-Practice-Python-GoogleColab/blob/main/09_cwiczeniaMJ.ipynb\" target=\"_parent\"><img src=\"https://colab.research.google.com/assets/colab-badge.svg\" alt=\"Open In Colab\"/></a>"
      ]
    },
    {
      "cell_type": "code",
      "execution_count": 46,
      "metadata": {
        "colab": {
          "base_uri": "https://localhost:8080/"
        },
        "id": "HzsGdELM9l8b",
        "outputId": "5388d2c9-0195-4e2b-a8b5-846aeb50b1b1"
      },
      "outputs": [
        {
          "output_type": "stream",
          "name": "stdout",
          "text": [
            "{'Poland': 'Warsaw', 'Germany': 'Berlin', 'Austria': 'Vienna'}\n",
            "Poland, Warsaw\n",
            "Germany, Berlin\n",
            "Austria, Vienna\n"
          ]
        }
      ],
      "source": [
        "s = {('Poland'):('Warsaw'),('Germany'):('Berlin'),('Austria'):('Vienna')}\n",
        "print(s)\n",
        "for k, v in s.items():\n",
        "  print(k, v,sep=', ')"
      ]
    },
    {
      "cell_type": "code",
      "source": [
        "dict_keys = print(s.keys())\n",
        "dict_values = print(s.values())"
      ],
      "metadata": {
        "colab": {
          "base_uri": "https://localhost:8080/"
        },
        "id": "8rLeDYsKDfem",
        "outputId": "521ced45-7370-4799-a2ca-75daf8a8361b"
      },
      "execution_count": 49,
      "outputs": [
        {
          "output_type": "stream",
          "name": "stdout",
          "text": [
            "dict_keys(['Poland', 'Germany', 'Austria'])\n",
            "dict_values(['Warsaw', 'Berlin', 'Vienna'])\n"
          ]
        }
      ]
    },
    {
      "cell_type": "code",
      "source": [
        "dict_items = tuple(s.items())\n",
        "print(dict_items)\n",
        "\n"
      ],
      "metadata": {
        "colab": {
          "base_uri": "https://localhost:8080/"
        },
        "id": "M3KFjHDgEdQV",
        "outputId": "1aaa7bad-11f9-4ad7-d738-73d091fb9908"
      },
      "execution_count": 51,
      "outputs": [
        {
          "output_type": "stream",
          "name": "stdout",
          "text": [
            "(('Poland', 'Warsaw'), ('Germany', 'Berlin'), ('Austria', 'Vienna'))\n"
          ]
        }
      ]
    },
    {
      "cell_type": "code",
      "source": [
        "x =s.get('Austria')\n",
        "x"
      ],
      "metadata": {
        "colab": {
          "base_uri": "https://localhost:8080/",
          "height": 36
        },
        "id": "3Ob2a2waFko3",
        "outputId": "9e93b5e9-c66f-4711-f89a-b4c4a02f80ea"
      },
      "execution_count": 53,
      "outputs": [
        {
          "output_type": "execute_result",
          "data": {
            "application/vnd.google.colaboratory.intrinsic+json": {
              "type": "string"
            },
            "text/plain": [
              "'Vienna'"
            ]
          },
          "metadata": {},
          "execution_count": 53
        }
      ]
    },
    {
      "cell_type": "code",
      "source": [
        "stocks = {\n",
        "    'PLW': {'Playway': 316},\n",
        "    'CDR': {'CD Projekt': 293},\n",
        "    'TEN': {'Ten Square Games': 301}\n",
        "}\n",
        "print(stocks.get('PLW'))\n",
        "print(v.get('Ten Square Games')) "
      ],
      "metadata": {
        "colab": {
          "base_uri": "https://localhost:8080/"
        },
        "id": "kDWbSrg3FzBG",
        "outputId": "75f9bd21-61dc-47a0-8653-ccb42c6862cd"
      },
      "execution_count": 81,
      "outputs": [
        {
          "output_type": "stream",
          "name": "stdout",
          "text": [
            "{'Playway': 316}\n",
            "301\n"
          ]
        }
      ]
    },
    {
      "cell_type": "code",
      "source": [
        "stocks['CDR'] = {'CD Projekt': 310}\n",
        "stocks"
      ],
      "metadata": {
        "colab": {
          "base_uri": "https://localhost:8080/"
        },
        "id": "JkFIcTyAGNhu",
        "outputId": "248bd432-e82e-4400-8b8f-a63dda35b501"
      },
      "execution_count": 84,
      "outputs": [
        {
          "output_type": "execute_result",
          "data": {
            "text/plain": [
              "{'CDR': {'CD Projekt': 310},\n",
              " 'PLW': {'Playway': 316},\n",
              " 'TEN': {'Ten Square Games': 301}}"
            ]
          },
          "metadata": {},
          "execution_count": 84
        }
      ]
    },
    {
      "cell_type": "code",
      "source": [
        "stocks = {\n",
        "    'PLW': {'Playway': 316},\n",
        "    'CDR': {'CD Projekt': 293},\n",
        "    'TEN': {'Ten Square Games': 301}\n",
        "}\n",
        "x = {'BBT':{'Boombit: 23'}}\n",
        "stocks.update(x)\n",
        "stocks\n",
        "dict_values = print(stocks.values())"
      ],
      "metadata": {
        "colab": {
          "base_uri": "https://localhost:8080/"
        },
        "id": "V_-dUfqeJFQN",
        "outputId": "d7297f18-ae2a-428a-8e3a-b2998c18ffc9"
      },
      "execution_count": 101,
      "outputs": [
        {
          "output_type": "stream",
          "name": "stdout",
          "text": [
            "dict_values([{'Playway': 316}, {'CD Projekt': 293}, {'Ten Square Games': 301}, {'Boombit: 23'}])\n"
          ]
        }
      ]
    },
    {
      "cell_type": "code",
      "source": [
        "ticker = [\n",
        "    'ALR', 'CCC', 'CDR', 'CPS', 'DNP',\n",
        "    'JSW', 'KGH', 'LPP', 'LTS', 'MBK',\n",
        "    'OPL', 'PEO', 'PGE', 'PGN', 'PKN',\n",
        "    'PKO', 'PLY', 'PZU', 'SPL', 'TPE'\n",
        "]\n",
        "for el in ticker:\n",
        "  print(tuple([ticker.index(el),el]), end=',')"
      ],
      "metadata": {
        "colab": {
          "base_uri": "https://localhost:8080/"
        },
        "id": "0ixrr7QRdvzb",
        "outputId": "532530f2-5261-4f6a-8660-741786f2cfe4"
      },
      "execution_count": 106,
      "outputs": [
        {
          "output_type": "stream",
          "name": "stdout",
          "text": [
            "(0, 'ALR'),(1, 'CCC'),(2, 'CDR'),(3, 'CPS'),(4, 'DNP'),(5, 'JSW'),(6, 'KGH'),(7, 'LPP'),(8, 'LTS'),(9, 'MBK'),(10, 'OPL'),(11, 'PEO'),(12, 'PGE'),(13, 'PGN'),(14, 'PKN'),(15, 'PKO'),(16, 'PLY'),(17, 'PZU'),(18, 'SPL'),(19, 'TPE'),"
          ]
        }
      ]
    },
    {
      "cell_type": "code",
      "source": [
        "ticker = [\n",
        "    'ALR', 'CCC', 'CDR', 'CPS', 'DNP',\n",
        "    'JSW', 'KGH', 'LPP', 'LTS', 'MBK',\n",
        "    'OPL', 'PEO', 'PGE', 'PGN', 'PKN',\n",
        "    'PKO', 'PLY', 'PZU', 'SPL', 'TPE'\n",
        "]\n",
        "print({ticker.index(i): i for i in ticker})\n"
      ],
      "metadata": {
        "colab": {
          "base_uri": "https://localhost:8080/"
        },
        "id": "YRvSBI_Ne3EY",
        "outputId": "3b0a535f-035d-4d54-b8d5-3e6e45ffbd7b"
      },
      "execution_count": 271,
      "outputs": [
        {
          "output_type": "stream",
          "name": "stdout",
          "text": [
            "{0: 'ALR', 1: 'CCC', 2: 'CDR', 3: 'CPS', 4: 'DNP', 5: 'JSW', 6: 'KGH', 7: 'LPP', 8: 'LTS', 9: 'MBK', 10: 'OPL', 11: 'PEO', 12: 'PGE', 13: 'PGN', 14: 'PKN', 15: 'PKO', 16: 'PLY', 17: 'PZU', 18: 'SPL', 19: 'TPE'}\n"
          ]
        }
      ]
    },
    {
      "cell_type": "code",
      "source": [
        "project_ids = {\n",
        "    '01': 'open', \n",
        "    '03': 'in progress',\n",
        "    '05': 'in progress',\n",
        "    '04': 'completed'\n",
        "} \n",
        "print(list(set((project_ids.values()))))\n"
      ],
      "metadata": {
        "colab": {
          "base_uri": "https://localhost:8080/"
        },
        "id": "RtvWBunQPjav",
        "outputId": "739e103d-3ebe-497d-def0-7ed7671e907d"
      },
      "execution_count": 278,
      "outputs": [
        {
          "output_type": "stream",
          "name": "stdout",
          "text": [
            "['completed', 'open', 'in progress']\n"
          ]
        }
      ]
    },
    {
      "cell_type": "code",
      "source": [
        "stats = {'strona': 'e-smartdata.org', 'ruch': 100, 'typ': 'organiczny'}\n",
        "del stats['ruch']\n",
        "stats"
      ],
      "metadata": {
        "colab": {
          "base_uri": "https://localhost:8080/"
        },
        "id": "5wrzGHYHRyDL",
        "outputId": "18445315-96e5-46ef-a79e-5763f96d063d"
      },
      "execution_count": 280,
      "outputs": [
        {
          "output_type": "execute_result",
          "data": {
            "text/plain": [
              "{'strona': 'e-smartdata.org', 'typ': 'organiczny'}"
            ]
          },
          "metadata": {},
          "execution_count": 280
        }
      ]
    },
    {
      "cell_type": "code",
      "source": [
        "users = {'001': 'Marek', '002': 'Monika', '003': 'Jakub'}\n",
        "print(users.get('004', 'nieokreślony'))"
      ],
      "metadata": {
        "colab": {
          "base_uri": "https://localhost:8080/"
        },
        "id": "psX7zkofSSBB",
        "outputId": "3e0a72d0-f1e5-480f-b660-83ab96f55797"
      },
      "execution_count": 283,
      "outputs": [
        {
          "output_type": "stream",
          "name": "stdout",
          "text": [
            "nieokreślony\n"
          ]
        }
      ]
    }
  ]
}
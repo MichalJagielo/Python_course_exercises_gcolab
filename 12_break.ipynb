{
  "nbformat": 4,
  "nbformat_minor": 0,
  "metadata": {
    "colab": {
      "name": "12_cwiczeniaMJ.ipynb",
      "provenance": [],
      "collapsed_sections": [],
      "authorship_tag": "ABX9TyPa0ym6/MrKPmm/XRIoTUGY",
      "include_colab_link": true
    },
    "kernelspec": {
      "name": "python3",
      "display_name": "Python 3"
    },
    "language_info": {
      "name": "python"
    }
  },
  "cells": [
    {
      "cell_type": "markdown",
      "metadata": {
        "id": "view-in-github",
        "colab_type": "text"
      },
      "source": [
        "<a href=\"https://colab.research.google.com/github/MichalJagielo/Exercises-and-Practice-Python-GoogleColab/blob/main/12_cwiczeniaMJ.ipynb\" target=\"_parent\"><img src=\"https://colab.research.google.com/assets/colab-badge.svg\" alt=\"Open In Colab\"/></a>"
      ]
    },
    {
      "cell_type": "code",
      "execution_count": null,
      "metadata": {
        "colab": {
          "base_uri": "https://localhost:8080/"
        },
        "id": "wE_qYTae1lhZ",
        "outputId": "38941589-d788-448c-f84d-249eb628e7ad"
      },
      "outputs": [
        {
          "output_type": "stream",
          "name": "stdout",
          "text": [
            "False\n"
          ]
        }
      ],
      "source": [
        "list1 = [1, 2, 0]\n",
        "list2 = [4, 5, 6, 1]\n",
        "result = False\n",
        "for i in list1:\n",
        "  if i in list2:\n",
        "    result = True\n",
        "    break\n",
        "print(result)\n",
        "\n",
        "\n"
      ]
    },
    {
      "cell_type": "code",
      "source": [
        "hashtags = ['holiday', 'sport', 'fit', None, 'fashion']\n",
        "result = True\n",
        "for hash in hashtags:\n",
        "  if not isinstance(hash, str):\n",
        "    result = False\n",
        "    break\n",
        "print(result)\n"
      ],
      "metadata": {
        "colab": {
          "base_uri": "https://localhost:8080/"
        },
        "id": "3uUlL1l19gnL",
        "outputId": "7e6e741d-a924-452f-c020-03e910b35b26"
      },
      "execution_count": 70,
      "outputs": [
        {
          "output_type": "stream",
          "name": "stdout",
          "text": [
            "False\n"
          ]
        }
      ]
    },
    {
      "cell_type": "code",
      "source": [
        "## if prime number , number > 2\n",
        "number = 5\n",
        "result = True\n",
        "\n",
        "if number < 2:\n",
        "  raise ValueError(\"number must be grater than 2\")\n",
        "for n in range(2, (number)):\n",
        "  if number % n == 0:\n",
        "    result = False\n",
        "    break\n",
        "if result == True:\n",
        "  print('prime')\n",
        "else:\n",
        "  print('not prime')\n"
      ],
      "metadata": {
        "colab": {
          "base_uri": "https://localhost:8080/"
        },
        "id": "mUxy7TTyfstO",
        "outputId": "010b4f96-f12b-4275-9fb8-4a40c8256eb6"
      },
      "execution_count": 93,
      "outputs": [
        {
          "output_type": "stream",
          "name": "stdout",
          "text": [
            "prime\n"
          ]
        }
      ]
    }
  ]
}
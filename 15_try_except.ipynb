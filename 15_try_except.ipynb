{
  "nbformat": 4,
  "nbformat_minor": 0,
  "metadata": {
    "colab": {
      "name": "15_cwiczeniaMJ.ipynb",
      "provenance": [],
      "collapsed_sections": [],
      "authorship_tag": "ABX9TyNlJc/7T+5rbgRsWEALOEfR",
      "include_colab_link": true
    },
    "kernelspec": {
      "name": "python3",
      "display_name": "Python 3"
    },
    "language_info": {
      "name": "python"
    }
  },
  "cells": [
    {
      "cell_type": "markdown",
      "metadata": {
        "id": "view-in-github",
        "colab_type": "text"
      },
      "source": [
        "<a href=\"https://colab.research.google.com/github/MichalJagielo/Exercises-and-Practice-Python-GoogleColab/blob/main/15_cwiczeniaMJ.ipynb\" target=\"_parent\"><img src=\"https://colab.research.google.com/assets/colab-badge.svg\" alt=\"Open In Colab\"/></a>"
      ]
    },
    {
      "cell_type": "code",
      "execution_count": 3,
      "metadata": {
        "colab": {
          "base_uri": "https://localhost:8080/"
        },
        "id": "Dfq4RWw8m0MA",
        "outputId": "623b0196-c179-4da4-d4a5-cc1c6eecda9f"
      },
      "outputs": [
        {
          "output_type": "stream",
          "name": "stdout",
          "text": [
            "1000.0\n"
          ]
        }
      ],
      "source": [
        "suma = 3000\n",
        "counter = 0\n",
        "try:\n",
        "  x = suma/counter\n",
        "except ZeroDivisionError: print('Dzielenie przez zero')\n",
        "else:\n",
        "  print(x)"
      ]
    },
    {
      "cell_type": "code",
      "source": [
        "try:\n",
        "  with open('file.txt', 'r') as file:\n",
        "    content = file.read()\n",
        "except FileNotFoundError: print('Nie znaleziono pliku')"
      ],
      "metadata": {
        "colab": {
          "base_uri": "https://localhost:8080/"
        },
        "id": "8HRuQRw6nbfB",
        "outputId": "f0ac8660-b269-4eab-b209-9e1e9583a016"
      },
      "execution_count": 4,
      "outputs": [
        {
          "output_type": "stream",
          "name": "stdout",
          "text": [
            "Nie znaleziono pliku\n"
          ]
        }
      ]
    },
    {
      "cell_type": "code",
      "source": [
        "users = {'001': 'Marek', '002': 'Monika', '003': 'Jakub'}\n",
        "try:\n",
        "  users['004']\n",
        "except KeyError: print('Klucz 004 nie występuje w słowniku. Dodawanie klucza...')\n",
        "finally:\n",
        "  users['004'] = None\n",
        "print(users)"
      ],
      "metadata": {
        "colab": {
          "base_uri": "https://localhost:8080/"
        },
        "id": "WSamfKSBoLvt",
        "outputId": "bc9b5eaf-c549-4947-f431-888e41724d5f"
      },
      "execution_count": 6,
      "outputs": [
        {
          "output_type": "stream",
          "name": "stdout",
          "text": [
            "Klucz 004 nie występuje w słowniku. Dodawanie klucza...\n",
            "{'001': 'Marek', '002': 'Monika', '003': 'Jakub', '004': None}\n"
          ]
        }
      ]
    }
  ]
}
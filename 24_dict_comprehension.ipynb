{
  "nbformat": 4,
  "nbformat_minor": 0,
  "metadata": {
    "colab": {
      "name": "24_cwiczeniaMJ.ipynb",
      "provenance": [],
      "collapsed_sections": [],
      "authorship_tag": "ABX9TyOLBN5/I7zKP8kaavAJiHoI",
      "include_colab_link": true
    },
    "kernelspec": {
      "name": "python3",
      "display_name": "Python 3"
    },
    "language_info": {
      "name": "python"
    }
  },
  "cells": [
    {
      "cell_type": "markdown",
      "metadata": {
        "id": "view-in-github",
        "colab_type": "text"
      },
      "source": [
        "<a href=\"https://colab.research.google.com/github/MichalJagielo/ExercisesPractice_Python_GoogleColab/blob/main/24_cwiczeniaMJ.ipynb\" target=\"_parent\"><img src=\"https://colab.research.google.com/assets/colab-badge.svg\" alt=\"Open In Colab\"/></a>"
      ]
    },
    {
      "cell_type": "code",
      "execution_count": 6,
      "metadata": {
        "colab": {
          "base_uri": "https://localhost:8080/"
        },
        "id": "TSFc3tutrd7D",
        "outputId": "041ef041-fd0e-46da-c067-82e5fc8038ec"
      },
      "outputs": [
        {
          "output_type": "execute_result",
          "data": {
            "text/plain": [
              "{1: 1, 2: 4, 3: 9, 4: 16, 5: 25, 6: 36, 7: 49}"
            ]
          },
          "metadata": {},
          "execution_count": 6
        }
      ],
      "source": [
        "nums = [1, 2, 3, 4, 5, 6, 7]\n",
        "\n",
        "dictionary = dict([(x, x**2) for x in nums])\n",
        "dictionary"
      ]
    },
    {
      "cell_type": "code",
      "source": [
        "stocks = ['Playway', 'CD Projekt', 'Boombit']\n",
        "\n",
        "dictionary = dict([(word, len(word)) for word in stocks])\n",
        "dictionary"
      ],
      "metadata": {
        "colab": {
          "base_uri": "https://localhost:8080/"
        },
        "id": "n1g_Nj8wtxvy",
        "outputId": "cc1b197f-c8ae-4f38-f2e9-6ef90955c5aa"
      },
      "execution_count": 7,
      "outputs": [
        {
          "output_type": "execute_result",
          "data": {
            "text/plain": [
              "{'Boombit': 7, 'CD Projekt': 10, 'Playway': 7}"
            ]
          },
          "metadata": {},
          "execution_count": 7
        }
      ]
    },
    {
      "cell_type": "code",
      "source": [
        "stocks = {'Boombit': '001', 'CD Projekt': '002', 'Playway': '003'}\n",
        "stocks ={v:k for k, v in stocks.items()}\n",
        "stocks"
      ],
      "metadata": {
        "colab": {
          "base_uri": "https://localhost:8080/"
        },
        "id": "RUgYd2cYuLnx",
        "outputId": "801e0a0d-ba0d-4884-dca8-e422dd99e688"
      },
      "execution_count": 18,
      "outputs": [
        {
          "output_type": "execute_result",
          "data": {
            "text/plain": [
              "{'001': 'Boombit', '002': 'CD Projekt', '003': 'Playway'}"
            ]
          },
          "metadata": {},
          "execution_count": 18
        }
      ]
    },
    {
      "cell_type": "code",
      "source": [
        "stocks = {'Boombit': 22, 'CD Projekt': 295, 'Playway': 350}\n",
        "stocks ={k : v for k, v in stocks.items() if v >100}\n",
        "stocks"
      ],
      "metadata": {
        "colab": {
          "base_uri": "https://localhost:8080/"
        },
        "id": "aQPDyYLBwdjj",
        "outputId": "bfed4612-5dec-4c6a-f74d-121426bb5ca2"
      },
      "execution_count": 22,
      "outputs": [
        {
          "output_type": "execute_result",
          "data": {
            "text/plain": [
              "{'CD Projekt': 295, 'Playway': 350}"
            ]
          },
          "metadata": {},
          "execution_count": 22
        }
      ]
    },
    {
      "cell_type": "code",
      "source": [
        "d = [{x: x**y for x in range(1,10)} for y in range(1,4)]\n",
        "d"
      ],
      "metadata": {
        "colab": {
          "base_uri": "https://localhost:8080/"
        },
        "id": "INwBXOtMw5F6",
        "outputId": "a592ff2e-cca1-4db9-dc96-58400e38fd2f"
      },
      "execution_count": 135,
      "outputs": [
        {
          "output_type": "execute_result",
          "data": {
            "text/plain": [
              "[{1: 1, 2: 2, 3: 3, 4: 4, 5: 5, 6: 6, 7: 7, 8: 8, 9: 9},\n",
              " {1: 1, 2: 4, 3: 9, 4: 16, 5: 25, 6: 36, 7: 49, 8: 64, 9: 81},\n",
              " {1: 1, 2: 8, 3: 27, 4: 64, 5: 125, 6: 216, 7: 343, 8: 512, 9: 729}]"
            ]
          },
          "metadata": {},
          "execution_count": 135
        }
      ]
    },
    {
      "cell_type": "code",
      "source": [
        "indeks = ['WIG20', 'mWIG40', 'sWIG80']\n",
        "properties = ['liczba spółek', 'spółki', 'kapitalizacja']\n",
        "# properties_dict = {val: None for val in properties}\n",
        "\n",
        "d = {x: {val: None for val in properties} for x in indeks}\n",
        "print(d)\n"
      ],
      "metadata": {
        "colab": {
          "base_uri": "https://localhost:8080/"
        },
        "id": "a4CJ1gM2xsWJ",
        "outputId": "38a2947d-f686-4855-8edd-783e90c35aff"
      },
      "execution_count": 139,
      "outputs": [
        {
          "output_type": "stream",
          "name": "stdout",
          "text": [
            "{'WIG20': {'liczba spółek': None, 'spółki': None, 'kapitalizacja': None}, 'mWIG40': {'liczba spółek': None, 'spółki': None, 'kapitalizacja': None}, 'sWIG80': {'liczba spółek': None, 'spółki': None, 'kapitalizacja': None}}\n"
          ]
        }
      ]
    },
    {
      "cell_type": "code",
      "source": [
        "indeks = ['WIG20', 'mWIG40', 'sWIG80']\n",
        "d = {idx: val for idx, val in enumerate(indeks)}\n",
        "d"
      ],
      "metadata": {
        "colab": {
          "base_uri": "https://localhost:8080/"
        },
        "id": "uS3JLdWMKFh_",
        "outputId": "94762f1d-a465-4155-cb73-51c4235810a4"
      },
      "execution_count": 141,
      "outputs": [
        {
          "output_type": "execute_result",
          "data": {
            "text/plain": [
              "{0: 'WIG20', 1: 'mWIG40', 2: 'sWIG80'}"
            ]
          },
          "metadata": {},
          "execution_count": 141
        }
      ]
    }
  ]
}
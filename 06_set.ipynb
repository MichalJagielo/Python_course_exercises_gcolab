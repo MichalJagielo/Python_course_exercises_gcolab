{
  "nbformat": 4,
  "nbformat_minor": 0,
  "metadata": {
    "colab": {
      "name": "06_cwiczeniaMJ.ipynb",
      "provenance": [],
      "authorship_tag": "ABX9TyP/zhuxRPGVie68FtUAYKNp",
      "include_colab_link": true
    },
    "kernelspec": {
      "name": "python3",
      "display_name": "Python 3"
    },
    "language_info": {
      "name": "python"
    }
  },
  "cells": [
    {
      "cell_type": "markdown",
      "metadata": {
        "id": "view-in-github",
        "colab_type": "text"
      },
      "source": [
        "<a href=\"https://colab.research.google.com/github/MichalJagielo/Exercises-and-Practice-Python-GoogleColab/blob/main/06_cwiczeniaMJ.ipynb\" target=\"_parent\"><img src=\"https://colab.research.google.com/assets/colab-badge.svg\" alt=\"Open In Colab\"/></a>"
      ]
    },
    {
      "cell_type": "code",
      "execution_count": 12,
      "metadata": {
        "colab": {
          "base_uri": "https://localhost:8080/"
        },
        "id": "iNA_7c14dJgP",
        "outputId": "48c571a0-3371-41b8-9363-8dad151d391f"
      },
      "outputs": [
        {
          "output_type": "execute_result",
          "data": {
            "text/plain": [
              "{'angielski', 'matematyka', 'polski'}"
            ]
          },
          "metadata": {},
          "execution_count": 12
        }
      ],
      "source": [
        "przedmioty = {'matematyka', 'polski'}\n",
        "przedmioty.add('angielski')\n",
        "przedmioty\n"
      ]
    },
    {
      "cell_type": "code",
      "source": [
        "text = 'Programming in python.'\n",
        "vowels = {'a', 'e', 'i', 'o', 'u'}\n",
        "x = text.lower().replace('.','').replace(' ','')\n",
        "y = set(x)\n",
        "z = y.difference(vowels)\n",
        "print(f'Liczba elementow: {len(z)}')\n",
        "\n",
        "\n",
        "\n",
        "  \n"
      ],
      "metadata": {
        "colab": {
          "base_uri": "https://localhost:8080/"
        },
        "id": "5K8E1KqpefiR",
        "outputId": "cf50c2e8-cf1b-422b-8b24-96c76e586aff"
      },
      "execution_count": 91,
      "outputs": [
        {
          "output_type": "stream",
          "name": "stdout",
          "text": [
            "Liczba elementow: 8\n"
          ]
        }
      ]
    },
    {
      "cell_type": "code",
      "source": [
        "A = {2, 4, 6, 8}\n",
        "B = {4, 10}\n",
        "print(A.symmetric_difference(B))"
      ],
      "metadata": {
        "colab": {
          "base_uri": "https://localhost:8080/"
        },
        "id": "k7VtF7rcr0zO",
        "outputId": "84f64cf6-2262-4d23-e000-973a79d9e50b"
      },
      "execution_count": 92,
      "outputs": [
        {
          "output_type": "stream",
          "name": "stdout",
          "text": [
            "{2, 6, 8, 10}\n"
          ]
        }
      ]
    },
    {
      "cell_type": "code",
      "source": [
        "ad1_id = {'001', '002', '003'}\n",
        "ad2_id = {'002', '003', '007'}\n",
        "print(ad1_id.symmetric_difference(ad2_id))\n"
      ],
      "metadata": {
        "colab": {
          "base_uri": "https://localhost:8080/"
        },
        "id": "CiFu3MBOsMKa",
        "outputId": "b6f33e13-c27e-47c6-8e44-6bcf96ec6dc1"
      },
      "execution_count": 96,
      "outputs": [
        {
          "output_type": "stream",
          "name": "stdout",
          "text": [
            "{'007', '001'}\n"
          ]
        }
      ]
    },
    {
      "cell_type": "code",
      "source": [
        "is_clicked = {'9001', '9002', '9005'}\n",
        "is_bought = {'9002', '9004', '9005'}\n",
        "print(is_clicked.intersection(is_bought))"
      ],
      "metadata": {
        "colab": {
          "base_uri": "https://localhost:8080/"
        },
        "id": "ssmTKBKqtuW2",
        "outputId": "692ad4d3-59cf-4d81-fb09-e9cd96dc678c"
      },
      "execution_count": 97,
      "outputs": [
        {
          "output_type": "stream",
          "name": "stdout",
          "text": [
            "{'9005', '9002'}\n"
          ]
        }
      ]
    }
  ]
}
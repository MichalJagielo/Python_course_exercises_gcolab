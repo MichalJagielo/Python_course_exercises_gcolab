{
  "nbformat": 4,
  "nbformat_minor": 0,
  "metadata": {
    "colab": {
      "name": "26_podsumowanieMJ.ipynb",
      "provenance": [],
      "collapsed_sections": []
    },
    "kernelspec": {
      "name": "python3",
      "display_name": "Python 3"
    },
    "language_info": {
      "name": "python"
    }
  },
  "cells": [
    {
      "cell_type": "code",
      "source": [
        "import random"
      ],
      "metadata": {
        "id": "AlnqTna2RMRo"
      },
      "execution_count": null,
      "outputs": []
    },
    {
      "cell_type": "code",
      "execution_count": null,
      "metadata": {
        "colab": {
          "base_uri": "https://localhost:8080/"
        },
        "id": "wIr-bV_ZdCHP",
        "outputId": "5a75daff-d7b4-4e0f-b6d3-31149e163b07"
      },
      "outputs": [
        {
          "output_type": "execute_result",
          "data": {
            "text/plain": [
              "0.8571"
            ]
          },
          "metadata": {},
          "execution_count": 20
        }
      ],
      "source": [
        "## Napisz funkcję, która zwróci wskaźnik wartości prawidłowo przewidzianych przez model.\n",
        "\n",
        "y_true = [0, 0, 1, 1, 0, 1, 0]\n",
        "y_pred = [0, 0, 1, 0, 0, 1, 0]\n",
        "\n",
        "def accuracy(x,y):\n",
        "    compare = [i for i,j in zip(y_true, y_pred) if i==j]\n",
        "    indicator = round(len(compare)/len(y_true),4)\n",
        "    return indicator\n",
        "    \n",
        "accuracy(y_true, y_pred)\n"
      ]
    },
    {
      "cell_type": "code",
      "source": [
        "## MAE - Mean Absolute Error function\n",
        "\n",
        "y_true = [10, 10.5, 11.2, 10.4]\n",
        "y_pred = [10.2, 10.4, 10.8, 11.0]\n",
        "def mae(x,y):\n",
        "    suma = [abs(x2-x1) for (x1,x2) in zip(y_true,y_pred)]\n",
        "    mae = round(sum(suma)/len(y_true),3)\n",
        "    return mae\n",
        "\n",
        "mae(y_true, y_pred)"
      ],
      "metadata": {
        "colab": {
          "base_uri": "https://localhost:8080/"
        },
        "id": "2Ikfvvkqlpb9",
        "outputId": "be1d3115-cd80-4761-9f87-083caa0939ab"
      },
      "execution_count": null,
      "outputs": [
        {
          "output_type": "execute_result",
          "data": {
            "text/plain": [
              "0.325"
            ]
          },
          "metadata": {},
          "execution_count": 37
        }
      ]
    },
    {
      "cell_type": "code",
      "source": [
        "## MSE - Mean Squared Error function\n",
        "\n",
        "y_true = [10, 10.5, 11.2, 10.4]\n",
        "y_pred = [10.2, 10.4, 10.8, 11.0]\n",
        "def mae(x,y):\n",
        "    suma = [(x2-x1)**2 for (x1,x2) in zip(y_true,y_pred)]\n",
        "    mae = round(sum(suma)/len(y_true),3)\n",
        "    return mae\n",
        "\n",
        "mae(y_true, y_pred)"
      ],
      "metadata": {
        "colab": {
          "base_uri": "https://localhost:8080/"
        },
        "id": "V9PrKE1QpuAJ",
        "outputId": "5d4efd73-cb21-4402-d2ea-4b31ab34909b"
      },
      "execution_count": null,
      "outputs": [
        {
          "output_type": "execute_result",
          "data": {
            "text/plain": [
              "0.142"
            ]
          },
          "metadata": {},
          "execution_count": 38
        }
      ]
    },
    {
      "cell_type": "code",
      "source": [
        "## Zaimplementuj funkcję o nazwie relu. ReLU - Rectified Linear Unit\n",
        "\n",
        "x = random.randint(0,1000)\n",
        "def relu(x):\n",
        "    func = max(x, 0)\n",
        "    return func\n",
        "    \n",
        "relu(x)"
      ],
      "metadata": {
        "colab": {
          "base_uri": "https://localhost:8080/"
        },
        "id": "v-CobRBpqe3U",
        "outputId": "ac1e5a1d-124e-4def-f475-7090e296f562"
      },
      "execution_count": null,
      "outputs": [
        {
          "output_type": "execute_result",
          "data": {
            "text/plain": [
              "49"
            ]
          },
          "metadata": {},
          "execution_count": 54
        }
      ]
    },
    {
      "cell_type": "code",
      "source": [
        "## Napisz funkcję o nazwie flatten, która za argument \n",
        "## przyjmie tak określoną listę i ją spłaszczy,\n",
        "\n",
        "items = [\n",
        "    [1, 2, 3],\n",
        "    [4, 5, 6],\n",
        "    [7, 8, 9]\n",
        "]\n",
        "\n",
        "def flatten(items):\n",
        "    flatten_list = [i for item in items for i in item]\n",
        "    return flatten_list\n",
        "\n",
        "flatten(items)\n"
      ],
      "metadata": {
        "colab": {
          "base_uri": "https://localhost:8080/"
        },
        "id": "-v8nLprwrL0B",
        "outputId": "010c4b74-eebf-4f7c-9454-cf8cc7579822"
      },
      "execution_count": null,
      "outputs": [
        {
          "output_type": "execute_result",
          "data": {
            "text/plain": [
              "[1, 2, 3, 4, 5, 6, 7, 8, 9]"
            ]
          },
          "metadata": {},
          "execution_count": 107
        }
      ]
    },
    {
      "cell_type": "code",
      "source": [
        "## Napisz funkcję o nazwie transfer_zeros, która przyjmie za argument listę\n",
        "## oraz zwróci tę listę zawierającą wszystkie zera na końcu\n",
        "\n",
        "transfer = [3, 0, 4, 0, 2, 0, 5, 1, 6, 9, 0, 2]\n",
        "def transfer_zeros(items):\n",
        "    tf_zeros = [i for i in reversed(sorted(items))]\n",
        "    #print(list(tf_zeros))\n",
        "    return tf_zeros\n",
        "\n",
        "transfer_zeros(transfer)"
      ],
      "metadata": {
        "colab": {
          "base_uri": "https://localhost:8080/"
        },
        "id": "Bqo5r8jutwbW",
        "outputId": "1d99dd22-c562-490a-ce08-17ee9893c568"
      },
      "execution_count": null,
      "outputs": [
        {
          "output_type": "execute_result",
          "data": {
            "text/plain": [
              "[9, 6, 5, 4, 3, 2, 2, 1, 0, 0, 0, 0]"
            ]
          },
          "metadata": {},
          "execution_count": 126
        }
      ]
    },
    {
      "cell_type": "code",
      "source": [
        "## Npisz funkcję euclidean_distance która policzy odległość pomiędzy dwoma punktami.\n",
        "\n",
        " def euclidean_distance(x,y):\n",
        "     \n",
        "     dist = [(i-j)**2 for i, j in zip(x ,y)]\n",
        "     return (sum(dist))**0.5\n",
        "\n",
        "euclidean_distance([4, 3], [4, 2])"
      ],
      "metadata": {
        "colab": {
          "base_uri": "https://localhost:8080/"
        },
        "id": "iteaBbT8yyJx",
        "outputId": "2dc34a13-f025-411e-b71b-a030819db305"
      },
      "execution_count": null,
      "outputs": [
        {
          "output_type": "execute_result",
          "data": {
            "text/plain": [
              "1.0"
            ]
          },
          "metadata": {},
          "execution_count": 134
        }
      ]
    },
    {
      "cell_type": "code",
      "source": [
        "## Napisz funkcję o nazwie arange, która przyjmie trzy parametry: \n",
        "## start, stop, step oraz wygeneruje listę składającą się z liczb całkowitych\n",
        "\n",
        "def arange(start,stop,step):\n",
        "    lista = [num + num%step for num in range(int(start), int(stop)) if num%step==0]\n",
        "    return lista\n",
        "\n",
        "arange(2,21,3)"
      ],
      "metadata": {
        "colab": {
          "base_uri": "https://localhost:8080/"
        },
        "id": "uTWv4lbv0FoH",
        "outputId": "e97ad006-2115-4db5-804c-05a425e694aa"
      },
      "execution_count": null,
      "outputs": [
        {
          "output_type": "execute_result",
          "data": {
            "text/plain": [
              "[3, 6, 9, 12, 15, 18]"
            ]
          },
          "metadata": {},
          "execution_count": 106
        }
      ]
    },
    {
      "cell_type": "code",
      "source": [
        "## Napisz funkcję o nazwie concat, która przyjmie dwie listy \n",
        "## w formacie podanym jak poniżej:\n",
        "\n",
        "l1 = [[1], [2]]\n",
        "l2 = [[3], [4]]\n",
        "def concat(l1,l2):\n",
        "    lista = [[i[0],j[0]] for i,j in zip(l1,l2)]\n",
        "    return lista\n",
        "    \n",
        "concat(l1,l2)"
      ],
      "metadata": {
        "colab": {
          "base_uri": "https://localhost:8080/"
        },
        "id": "35tRmL3K5ILE",
        "outputId": "68dc1cd3-8175-4d65-badd-9c92d121f89b"
      },
      "execution_count": null,
      "outputs": [
        {
          "output_type": "execute_result",
          "data": {
            "text/plain": [
              "[[1, 3], [2, 4]]"
            ]
          },
          "metadata": {},
          "execution_count": 219
        }
      ]
    },
    {
      "cell_type": "code",
      "source": [
        "## Napisz funkcję o nazwie identity, która przyjmie za argument \n",
        "## liczbę naturalną i zwróci listę (inaczej macierz jednostkową).\n",
        "\n",
        "def identity(n):\n",
        "    matrix = [[0]*n for i in range(n)]\n",
        "    print(matrix)\n",
        "    for idx, item in enumerate(matrix):\n",
        "        item[idx] = 1\n",
        "    return matrix\n",
        "    \n",
        "identity(4)\n",
        "\n",
        "###l = [i[v]=1 for i, v in enumerate([0*j for j in range(n)] for i in range(n)])]"
      ],
      "metadata": {
        "colab": {
          "base_uri": "https://localhost:8080/"
        },
        "id": "yvWp0HU-Bp-Y",
        "outputId": "4670e5e8-719e-4e7a-c100-f31923585a72"
      },
      "execution_count": null,
      "outputs": [
        {
          "output_type": "stream",
          "name": "stdout",
          "text": [
            "[[0, 0, 0, 0], [0, 0, 0, 0], [0, 0, 0, 0], [0, 0, 0, 0]]\n"
          ]
        },
        {
          "output_type": "execute_result",
          "data": {
            "text/plain": [
              "[[1, 0, 0, 0], [0, 1, 0, 0], [0, 0, 1, 0], [0, 0, 0, 1]]"
            ]
          },
          "metadata": {},
          "execution_count": 290
        }
      ]
    },
    {
      "cell_type": "code",
      "source": [
        "## Napisz funkcję o nazwie fill_value, która zwróci dwuwymiarową tablicę\n",
        "## o rozmiarze height x width i wypełni ją stałą wartością value.\n",
        "\n",
        "def fill_value(height, width, value):\n",
        "    matrix = [[value]*width for _ in range(height)]\n",
        "    return matrix\n",
        "\n",
        "fill_value(3, 4, '255')\n"
      ],
      "metadata": {
        "colab": {
          "base_uri": "https://localhost:8080/"
        },
        "id": "q7_SjqVMV_oU",
        "outputId": "d271cb61-f259-4ac5-d745-5e88d9523d29"
      },
      "execution_count": null,
      "outputs": [
        {
          "output_type": "execute_result",
          "data": {
            "text/plain": [
              "[['255', '255', '255', '255'],\n",
              " ['255', '255', '255', '255'],\n",
              " ['255', '255', '255', '255']]"
            ]
          },
          "metadata": {},
          "execution_count": 367
        }
      ]
    },
    {
      "cell_type": "code",
      "source": [
        "## Napisz funkcję o nazwie trace, która zwróci ślad macierzy\n",
        "\n",
        "def trace(n):\n",
        "    matrix = [[random.randint(0,9) for i in range(n)] for i in range(n)]\n",
        "    trace_nums = []\n",
        "    print(matrix)\n",
        "    for idx, row in enumerate(matrix):\n",
        "        trace_nums.append(row[idx])\n",
        "\n",
        "    trace_nums_sum = sum(trace_nums)\n",
        "    \n",
        "    return trace_nums_sum\n",
        "    \n",
        "trace(2)"
      ],
      "metadata": {
        "colab": {
          "base_uri": "https://localhost:8080/"
        },
        "id": "qL096mSdZdEr",
        "outputId": "8ff5f595-24fb-4ed6-c4fc-f5c3bf682a5b"
      },
      "execution_count": null,
      "outputs": [
        {
          "output_type": "stream",
          "name": "stdout",
          "text": [
            "[[3, 4], [7, 7]]\n"
          ]
        },
        {
          "output_type": "execute_result",
          "data": {
            "text/plain": [
              "10"
            ]
          },
          "metadata": {},
          "execution_count": 52
        }
      ]
    },
    {
      "cell_type": "code",
      "source": [
        "## Napisz funkcję o nazwie transpose, która dokona transpozycji macierzy dwuwymiarowej\n",
        "\n",
        "def transpose(n):\n",
        "    matrix = [[random.randint(0,9) for i in range(n-1)] for i in range(n)]\n",
        "    matrixT = [[matrix[m][n] for m in range(len(matrix))] for n in range(len(matrix[0]))]\n",
        "    #matrixT = map(list, zip(*matrix))\n",
        "    \n",
        "    return matrix, \"transpose: \", matrixT\n",
        "\n",
        "transpose(3)\n",
        "\n",
        "\n",
        "# matrix = [[random.randint(0,9) for i in range(3)] for i in range(2)]\n",
        "# print(matrix)\n",
        "\n",
        "# transp_end = []\n",
        "# for col in range(len(matrix[0])):\n",
        "#     transp_start = []\n",
        "#     for row in range(len(matrix)):\n",
        "#         transp_start.append(matrix[row][col])\n",
        "#     transp_end.append(transp_start)\n",
        "   \n",
        "# print(transp_end, \"transpose\")\n"
      ],
      "metadata": {
        "id": "zvfbBrHqbue_",
        "colab": {
          "base_uri": "https://localhost:8080/"
        },
        "outputId": "b8930c59-ee5d-4d79-a2af-16cd1e0b3694"
      },
      "execution_count": null,
      "outputs": [
        {
          "output_type": "execute_result",
          "data": {
            "text/plain": [
              "([[5, 1], [7, 1], [5, 6]], 'transpose: ', [[5, 7, 5], [1, 1, 6]])"
            ]
          },
          "metadata": {},
          "execution_count": 113
        }
      ]
    },
    {
      "cell_type": "code",
      "source": [
        "## Napisz funkcję o nazwie max_prob, która zwróci najwyższą wartość \n",
        "## prawdopodobieństwa dla danego wiesza w macierzy dwuwymiarowej.\n",
        "\n",
        "matrix = ([[0.3, 0.4, 0.3], [0.0, 0.1, 0.9]])\n",
        "matrix1 = ([[0.3, 0.4, 0.2, 0.1], [0.0, 0.1, 0.7, 0.2], [0.0, 0.4, 0.3, 0.3]]) \n",
        "\n",
        "def max_prob(matrix):\n",
        "\n",
        "    result = [el for row in matrix for el in row if el == max(row):el=1 else el=0]\n",
        "    return result\n",
        "\n",
        "max_prob(matrix1)"
      ],
      "metadata": {
        "id": "uWsl12aVnncN",
        "colab": {
          "base_uri": "https://localhost:8080/"
        },
        "outputId": "730ecef7-5172-45b5-b16a-35f6c7fb4b32"
      },
      "execution_count": null,
      "outputs": [
        {
          "output_type": "execute_result",
          "data": {
            "text/plain": [
              "[0.4, 0.7, 0.4]"
            ]
          },
          "metadata": {},
          "execution_count": 34
        }
      ]
    },
    {
      "cell_type": "code",
      "source": [
        "## Zaimplementuj funkcję o nazwie dot_product, która przyjmie \n",
        "## dwie listy tej samej długości (wektory) i policzy iloczyn skalarny\n",
        "\n",
        "matrix = ([[0.3, 0.4, 0.2, 0.1], [0.0, 0.1, 0.7, 0.2]])\n",
        "matrix1 = ([[0.3, 0.4, 0.2, 0.1], [0.0, 0.1, 0.7, 0.2], [0.0, 0.3, 0.3, 0.4]])\n",
        "def detect_class(matrix):\n",
        "\n",
        "    result_end = []\n",
        "    for row in matrix:\n",
        "        max_val = max(row)\n",
        "        result_a = []\n",
        "        for idx, val in enumerate(row):         \n",
        "            if val == max_val:\n",
        "                result_a.append(1)\n",
        "            else:\n",
        "                result_a.append(0)\n",
        "        result_end.append(result_a)    \n",
        "    \n",
        "    return result_end\n",
        "    \n",
        "detect_class(matrix1)\n"
      ],
      "metadata": {
        "colab": {
          "base_uri": "https://localhost:8080/"
        },
        "id": "kcc4BVahNCp7",
        "outputId": "13305bc5-372e-45f7-902e-7db9453945f3"
      },
      "execution_count": null,
      "outputs": [
        {
          "output_type": "execute_result",
          "data": {
            "text/plain": [
              "[[0, 1, 0, 0], [0, 0, 1, 0], [0, 0, 0, 1]]"
            ]
          },
          "metadata": {},
          "execution_count": 51
        }
      ]
    },
    {
      "cell_type": "code",
      "source": [
        "## Zaimplementuj funkcję o nazwie dot_product, która przyjmie dwie listy\n",
        "## tej samej długości (wektory) i policzy iloczyn skalarny\n",
        "\n",
        "v = [1,2,2]\n",
        "w = [5,2,-3]\n",
        "def dot_product(v, w):\n",
        "    vector = [vi * wi for vi, wi in zip(v, w)]\n",
        "   \n",
        "    return \"multiplied_vectors v*w: \", vector, \"sum_multiplied_vectors v*w: \", sum(vector)\n",
        "\n",
        "dot_product(v, w)\n"
      ],
      "metadata": {
        "colab": {
          "base_uri": "https://localhost:8080/"
        },
        "id": "u1bYFPmdQYgE",
        "outputId": "3254aa7e-25b5-408b-e14c-a2ae4914ca56"
      },
      "execution_count": null,
      "outputs": [
        {
          "output_type": "execute_result",
          "data": {
            "text/plain": [
              "('multiplied_vectors v*w: ', [5, 4, -6], 'sum_multiplied_vectors v*w: ', 3)"
            ]
          },
          "metadata": {},
          "execution_count": 87
        }
      ]
    },
    {
      "cell_type": "code",
      "source": [
        "## Napisz funkcję o nazwie count_none, \n",
        "## która policzy wszystkie brakujące wartości w liście\n",
        "\n",
        "items_none = ([1, None, None, 5, None, 2])\n",
        "def count_none(nums):\n",
        "    count = 0\n",
        "    for num in nums:\n",
        "        if not num:\n",
        "            count += 1\n",
        "    return count\n",
        "\n",
        "count_none(items_none)"
      ],
      "metadata": {
        "colab": {
          "base_uri": "https://localhost:8080/"
        },
        "id": "XOF8LXXalqO4",
        "outputId": "7c44bbd0-2e0e-4d51-e372-f5ef890830e6"
      },
      "execution_count": null,
      "outputs": [
        {
          "output_type": "execute_result",
          "data": {
            "text/plain": [
              "3"
            ]
          },
          "metadata": {},
          "execution_count": 114
        }
      ]
    },
    {
      "cell_type": "code",
      "source": [
        "## Napisz funkcję o nazwie top_n, która z podanej listy \n",
        "## wyciągnie top n największych wartości.\n",
        "\n",
        "items = [4, 5, 2, 9, 5, 2, 8, 2, 8, 10]\n",
        "n = 3\n",
        "def top_n(nums, n):\n",
        "    top_nums = sorted(nums, reverse=True)\n",
        "\n",
        "    return top_nums[:n]\n",
        "\n",
        "top_n(items, n)"
      ],
      "metadata": {
        "colab": {
          "base_uri": "https://localhost:8080/"
        },
        "id": "5D4wTmrRoGsK",
        "outputId": "9ba7657d-c65a-4fbd-8f64-3dca86096a83"
      },
      "execution_count": null,
      "outputs": [
        {
          "output_type": "execute_result",
          "data": {
            "text/plain": [
              "[10, 9, 8]"
            ]
          },
          "metadata": {},
          "execution_count": 101
        }
      ]
    }
  ]
}
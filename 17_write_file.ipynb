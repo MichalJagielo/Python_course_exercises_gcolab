{
  "nbformat": 4,
  "nbformat_minor": 0,
  "metadata": {
    "colab": {
      "name": "17_cwiczeniaMJ.ipynb",
      "provenance": [],
      "collapsed_sections": [],
      "authorship_tag": "ABX9TyPHoFyrNWzw4gGHdQiFihrf",
      "include_colab_link": true
    },
    "kernelspec": {
      "name": "python3",
      "display_name": "Python 3"
    },
    "language_info": {
      "name": "python"
    }
  },
  "cells": [
    {
      "cell_type": "markdown",
      "metadata": {
        "id": "view-in-github",
        "colab_type": "text"
      },
      "source": [
        "<a href=\"https://colab.research.google.com/github/MichalJagielo/Exercises-and-Practice-Python-GoogleColab/blob/main/17_cwiczeniaMJ.ipynb\" target=\"_parent\"><img src=\"https://colab.research.google.com/assets/colab-badge.svg\" alt=\"Open In Colab\"/></a>"
      ]
    },
    {
      "cell_type": "code",
      "execution_count": 14,
      "metadata": {
        "colab": {
          "base_uri": "https://localhost:8080/"
        },
        "id": "kk2AU0OkBrtK",
        "outputId": "b9831525-87c7-49e1-ef94-9548157f1090"
      },
      "outputs": [
        {
          "output_type": "stream",
          "name": "stdout",
          "text": [
            "2\n",
            "4\n",
            "6\n",
            "8\n",
            "10\n",
            "12\n",
            "14\n",
            "16\n",
            "18\n"
          ]
        }
      ],
      "source": [
        "with open ('num.txt','w') as file:\n",
        "  for i in range(2,19):\n",
        "    if i%2 == 0:\n",
        "      print(i)\n",
        "      file.write(str(i) + '\\n')\n"
      ]
    },
    {
      "cell_type": "code",
      "source": [
        "import json\n",
        "stocks = {'PLW': ['Playway', 350], 'BBT': ['Boombit', 22]}\n",
        "\n",
        "with open('stocks.json', 'w', encoding='utf-8') as file:\n",
        "  json.dump(stocks, file, indent=4)\n",
        "\n",
        "file =open('stocks.json', 'r')\n",
        "print(file.read())\n",
        "\n",
        "\n"
      ],
      "metadata": {
        "colab": {
          "base_uri": "https://localhost:8080/"
        },
        "id": "R1pRVJSNGFFO",
        "outputId": "26af5e21-9972-435b-f1d8-793180ea510c"
      },
      "execution_count": 21,
      "outputs": [
        {
          "output_type": "stream",
          "name": "stdout",
          "text": [
            "{\n",
            "    \"PLW\": [\n",
            "        \"Playway\",\n",
            "        350\n",
            "    ],\n",
            "    \"BBT\": [\n",
            "        \"Boombit\",\n",
            "        22\n",
            "    ]\n",
            "}\n"
          ]
        }
      ]
    },
    {
      "cell_type": "code",
      "source": [
        "import csv\n",
        "headers = ['user_id', 'amount']\n",
        "users = [['001', '1400'], ['004', '1300'], ['007', '900']]\n",
        "\n",
        "with open('users.csv','w',encoding='utf-8') as f:\n",
        "  writer = csv.writer(f)\n",
        "  writer.writerow(headers)\n",
        "  writer.writerows(users)\n",
        "f.close()\n",
        "file = open('users.csv', 'r')\n",
        "print(file.read())"
      ],
      "metadata": {
        "colab": {
          "base_uri": "https://localhost:8080/"
        },
        "id": "6_wjZ6c8KlfN",
        "outputId": "bc8c8d18-5673-4cee-a4a0-229468e87f83"
      },
      "execution_count": 24,
      "outputs": [
        {
          "output_type": "stream",
          "name": "stdout",
          "text": [
            "user_id,amount\n",
            "001,1400\n",
            "004,1300\n",
            "007,900\n",
            "\n"
          ]
        }
      ]
    }
  ]
}
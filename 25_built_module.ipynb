{
  "nbformat": 4,
  "nbformat_minor": 0,
  "metadata": {
    "colab": {
      "name": "25_cwiczeniaMJ.ipynb",
      "provenance": [],
      "collapsed_sections": [],
      "authorship_tag": "ABX9TyO+jP1cTDYnqml+Vw4nGY4y",
      "include_colab_link": true
    },
    "kernelspec": {
      "name": "python3",
      "display_name": "Python 3"
    },
    "language_info": {
      "name": "python"
    }
  },
  "cells": [
    {
      "cell_type": "markdown",
      "metadata": {
        "id": "view-in-github",
        "colab_type": "text"
      },
      "source": [
        "<a href=\"https://colab.research.google.com/github/MichalJagielo/ExercisesPractice_Python_GoogleColab/blob/main/25_cwiczeniaMJ.ipynb\" target=\"_parent\"><img src=\"https://colab.research.google.com/assets/colab-badge.svg\" alt=\"Open In Colab\"/></a>"
      ]
    },
    {
      "cell_type": "code",
      "execution_count": null,
      "metadata": {
        "id": "43JiL-VjLQRg"
      },
      "outputs": [],
      "source": [
        "import calendar\n",
        "calendar.prcal(2010)"
      ]
    },
    {
      "cell_type": "code",
      "source": [
        "calendar.prmonth(2020,6)"
      ],
      "metadata": {
        "id": "U_8i6cquNgib"
      },
      "execution_count": null,
      "outputs": []
    },
    {
      "cell_type": "code",
      "source": [
        "from datetime import date\n",
        "data1 = date(2020,6,1)\n",
        "data2 = date(2020,7,18)\n",
        "diff = data2 - data1\n",
        "diff"
      ],
      "metadata": {
        "colab": {
          "base_uri": "https://localhost:8080/"
        },
        "id": "rscwb_21Nuda",
        "outputId": "2da6dc54-2109-4128-84c8-cd9a893c10a6"
      },
      "execution_count": 26,
      "outputs": [
        {
          "output_type": "execute_result",
          "data": {
            "text/plain": [
              "datetime.timedelta(days=47)"
            ]
          },
          "metadata": {},
          "execution_count": 26
        }
      ]
    },
    {
      "cell_type": "code",
      "source": [
        "import re\n",
        "string = 'Python 3.8'\n",
        "re.findall(r\"\\d\", string)"
      ],
      "metadata": {
        "colab": {
          "base_uri": "https://localhost:8080/"
        },
        "id": "5C20UGIdTjfw",
        "outputId": "3c693e04-4417-4426-e7d8-ec0f4a650fb4"
      },
      "execution_count": 28,
      "outputs": [
        {
          "output_type": "execute_result",
          "data": {
            "text/plain": [
              "['3', '8']"
            ]
          },
          "metadata": {},
          "execution_count": 28
        }
      ]
    },
    {
      "cell_type": "code",
      "source": [
        "import re\n",
        "string = '!@#$%^&45wc'\n",
        "re.findall(r\"\\w\", string)"
      ],
      "metadata": {
        "colab": {
          "base_uri": "https://localhost:8080/"
        },
        "id": "SgTEVay5URRU",
        "outputId": "8afcec53-ca86-4b6f-cf3d-5c150457d0e2"
      },
      "execution_count": 29,
      "outputs": [
        {
          "output_type": "execute_result",
          "data": {
            "text/plain": [
              "['4', '5', 'w', 'c']"
            ]
          },
          "metadata": {},
          "execution_count": 29
        }
      ]
    },
    {
      "cell_type": "code",
      "source": [
        "raw_text = \"Wyślij email na adres: info@template.com lub sales-info@template.it\"\n",
        "re.findall(r\"[\\w\\.-]+@[\\w\\.-]+\", raw_text)"
      ],
      "metadata": {
        "colab": {
          "base_uri": "https://localhost:8080/"
        },
        "id": "mXxSFKgFU0EN",
        "outputId": "0ae0314f-c391-49b2-f835-82598e4b2d6a"
      },
      "execution_count": 31,
      "outputs": [
        {
          "output_type": "execute_result",
          "data": {
            "text/plain": [
              "['info@template.com', 'sales-info@template.it']"
            ]
          },
          "metadata": {},
          "execution_count": 31
        }
      ]
    },
    {
      "cell_type": "code",
      "source": [
        "text = 'Programowanie w języku Python - od A do Z'\n",
        "\n",
        "re.split(\"\\s+\", text)"
      ],
      "metadata": {
        "colab": {
          "base_uri": "https://localhost:8080/"
        },
        "id": "oR8gURrqWX3_",
        "outputId": "fcf20728-d35c-4ec8-b6a8-9a3876b72de5"
      },
      "execution_count": 32,
      "outputs": [
        {
          "output_type": "execute_result",
          "data": {
            "text/plain": [
              "['Programowanie', 'w', 'języku', 'Python', '-', 'od', 'A', 'do', 'Z']"
            ]
          },
          "metadata": {},
          "execution_count": 32
        }
      ]
    },
    {
      "cell_type": "code",
      "source": [
        "import string\n",
        "print(string.ascii_letters)\n"
      ],
      "metadata": {
        "colab": {
          "base_uri": "https://localhost:8080/"
        },
        "id": "Dp8b7jaOWqq_",
        "outputId": "64f8db56-7d40-472c-e1ed-041bfdf074eb"
      },
      "execution_count": 34,
      "outputs": [
        {
          "output_type": "stream",
          "name": "stdout",
          "text": [
            "abcdefghijklmnopqrstuvwxyzABCDEFGHIJKLMNOPQRSTUVWXYZ\n"
          ]
        }
      ]
    },
    {
      "cell_type": "code",
      "source": [
        "from collections import Counter\n",
        "items = ['YES', 'NO', 'NO', 'YES', 'EMPTY', 'YES', 'NO']\n",
        "items = Counter(items)\n",
        "items"
      ],
      "metadata": {
        "colab": {
          "base_uri": "https://localhost:8080/"
        },
        "id": "lqwq4DTdXOZm",
        "outputId": "f64ecda7-a1d7-4983-bcd3-59e3acd4f00d"
      },
      "execution_count": 43,
      "outputs": [
        {
          "output_type": "execute_result",
          "data": {
            "text/plain": [
              "Counter({'EMPTY': 1, 'NO': 3, 'YES': 3})"
            ]
          },
          "metadata": {},
          "execution_count": 43
        }
      ]
    },
    {
      "cell_type": "code",
      "source": [
        "##f(x) = 1/1+e^-x\n",
        "import math\n",
        "def sigmoid(x):\n",
        "    return 1 / (1 + math.exp(-x))\n",
        "\n",
        "sigmoid(2)"
      ],
      "metadata": {
        "colab": {
          "base_uri": "https://localhost:8080/"
        },
        "id": "THW3D_NCYJ5L",
        "outputId": "da7e9523-9258-4cd2-8e0d-c36f72aace33"
      },
      "execution_count": 63,
      "outputs": [
        {
          "output_type": "execute_result",
          "data": {
            "text/plain": [
              "0.8807970779778823"
            ]
          },
          "metadata": {},
          "execution_count": 63
        }
      ]
    },
    {
      "cell_type": "code",
      "source": [
        "import random\n",
        "random.seed(12)\n",
        "items = ['python', 'java', 'sql', 'c++', 'c']\n",
        "random.choice(items)"
      ],
      "metadata": {
        "colab": {
          "base_uri": "https://localhost:8080/",
          "height": 37
        },
        "id": "AlqYnItUYga8",
        "outputId": "dc9dda68-9548-40d1-89f7-cba022094192"
      },
      "execution_count": 62,
      "outputs": [
        {
          "output_type": "execute_result",
          "data": {
            "application/vnd.google.colaboratory.intrinsic+json": {
              "type": "string"
            },
            "text/plain": [
              "'c++'"
            ]
          },
          "metadata": {},
          "execution_count": 62
        }
      ]
    },
    {
      "cell_type": "code",
      "source": [
        "import random\n",
        "random.seed(10)\n",
        "items = ['python', 'java', 'sql', 'c++', 'c']\n",
        "random.shuffle(items)\n",
        "items"
      ],
      "metadata": {
        "colab": {
          "base_uri": "https://localhost:8080/"
        },
        "id": "iYuUJ65fZRcj",
        "outputId": "0a3719f6-2ecf-4844-8433-76e6ca3eaac0"
      },
      "execution_count": 67,
      "outputs": [
        {
          "output_type": "execute_result",
          "data": {
            "text/plain": [
              "['c++', 'sql', 'java', 'python', 'c']"
            ]
          },
          "metadata": {},
          "execution_count": 67
        }
      ]
    },
    {
      "cell_type": "code",
      "source": [
        "import pickle\n",
        "ids = ['001', '003', '011']\n",
        "pickle.dump(ids, open(\"save.p\", \"wb\"))\n",
        "idc = pickle.load(open(\"save.p\", \"rb\"))\n",
        "idc"
      ],
      "metadata": {
        "colab": {
          "base_uri": "https://localhost:8080/"
        },
        "id": "T6us6zsDaUBf",
        "outputId": "7f3bdeb1-8f26-4188-8f0e-227e17f0c6c7"
      },
      "execution_count": 71,
      "outputs": [
        {
          "output_type": "execute_result",
          "data": {
            "text/plain": [
              "['001', '003', '011']"
            ]
          },
          "metadata": {},
          "execution_count": 71
        }
      ]
    },
    {
      "cell_type": "code",
      "source": [
        "import json\n",
        "stocks = {'PLW': 360.0, 'TEN': 320.0, 'CDR': 329.0}\n",
        "y = json.dumps(stocks, indent=4)\n",
        "print(y)"
      ],
      "metadata": {
        "colab": {
          "base_uri": "https://localhost:8080/"
        },
        "id": "15QJrXsPbmCF",
        "outputId": "037241b6-c2d0-4769-d1d2-953f420c6295"
      },
      "execution_count": 74,
      "outputs": [
        {
          "output_type": "stream",
          "name": "stdout",
          "text": [
            "{\n",
            "    \"PLW\": 360.0,\n",
            "    \"TEN\": 320.0,\n",
            "    \"CDR\": 329.0\n",
            "}\n"
          ]
        }
      ]
    }
  ]
}